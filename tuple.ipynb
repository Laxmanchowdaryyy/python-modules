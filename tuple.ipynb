{
  "nbformat": 4,
  "nbformat_minor": 0,
  "metadata": {
    "colab": {
      "name": "tuple.ipynb",
      "provenance": [],
      "collapsed_sections": [],
      "authorship_tag": "ABX9TyMyXXpjX/yt6B59Uklvqy4v",
      "include_colab_link": true
    },
    "kernelspec": {
      "name": "python3",
      "display_name": "Python 3"
    },
    "language_info": {
      "name": "python"
    }
  },
  "cells": [
    {
      "cell_type": "markdown",
      "metadata": {
        "id": "view-in-github",
        "colab_type": "text"
      },
      "source": [
        "<a href=\"https://colab.research.google.com/github/Laxmanchowdaryyy/python-modules/blob/Module-2/tuple.ipynb\" target=\"_parent\"><img src=\"https://colab.research.google.com/assets/colab-badge.svg\" alt=\"Open In Colab\"/></a>"
      ]
    },
    {
      "cell_type": "code",
      "source": [
        "#create a tuple and allows duplicates\n",
        "fruits= (\"apple\", \"banana\", \"cherry\",\"banana\",\"cherry\")\n",
        "print(fruits)\n",
        "print(type(fruits))\n",
        "#length wont change if there are tuples\n",
        "print(len(fruits))\n",
        "print(fruits.count(\"banana\"))\n",
        "\n"
      ],
      "metadata": {
        "colab": {
          "base_uri": "https://localhost:8080/"
        },
        "id": "ZAUHwXx5Oap5",
        "outputId": "4963d8b5-4fec-41a7-ef53-1be9b5b173f4"
      },
      "execution_count": null,
      "outputs": [
        {
          "output_type": "stream",
          "name": "stdout",
          "text": [
            "('apple', 'banana', 'cherry', 'banana', 'cherry')\n",
            "<class 'tuple'>\n",
            "5\n",
            "2\n"
          ]
        }
      ]
    },
    {
      "cell_type": "code",
      "source": [
        "#length of tuple\n",
        "fruits=(1,1,1,2,3,421,3)\n",
        "print(len(fruits))"
      ],
      "metadata": {
        "id": "s2UBoIxhQV3A",
        "colab": {
          "base_uri": "https://localhost:8080/"
        },
        "outputId": "063a0141-3f3e-4066-adb7-71debad931af"
      },
      "execution_count": null,
      "outputs": [
        {
          "output_type": "stream",
          "name": "stdout",
          "text": [
            "7\n"
          ]
        }
      ]
    },
    {
      "cell_type": "code",
      "source": [
        "#One item tuple, remember the comma:\n",
        "fruit=(\"banana\")\n",
        "print(type(fruit))\n",
        "fruit=(\"banana\",)\n",
        "print(type(fruit))"
      ],
      "metadata": {
        "colab": {
          "base_uri": "https://localhost:8080/"
        },
        "id": "8qC7Skp9QZFe",
        "outputId": "cc62a928-b6b5-4c16-a551-b2c5f8a34635"
      },
      "execution_count": null,
      "outputs": [
        {
          "output_type": "stream",
          "name": "stdout",
          "text": [
            "<class 'str'>\n",
            "<class 'tuple'>\n"
          ]
        }
      ]
    },
    {
      "cell_type": "code",
      "source": [
        "#string items can be of anytypes\n",
        "fruits=(\"banana\",\"kiwi\",\"mango\")\n",
        "numbers=(1,2,3)\n",
        "boolean=(True,False)\n",
        "print(fruits)\n",
        "print(numbers)\n",
        "print(type(numbers))\n",
        "print(boolean)\n",
        "print(type(boolean))"
      ],
      "metadata": {
        "colab": {
          "base_uri": "https://localhost:8080/"
        },
        "id": "P2egfS2ZRMpA",
        "outputId": "87d93b74-ae47-4b90-edb1-d5f3303561ed"
      },
      "execution_count": null,
      "outputs": [
        {
          "output_type": "stream",
          "name": "stdout",
          "text": [
            "('banana', 'kiwi', 'mango')\n",
            "(1, 2, 3)\n",
            "<class 'tuple'>\n",
            "(True, False)\n",
            "<class 'tuple'>\n"
          ]
        }
      ]
    },
    {
      "cell_type": "code",
      "source": [
        "#A tuple with strings, integers and boolean values:\n",
        "tupleA=(\"mango\",77,True)\n",
        "print(tupleA)\n",
        "print(type(tupleA))"
      ],
      "metadata": {
        "colab": {
          "base_uri": "https://localhost:8080/"
        },
        "id": "xUZ8Po1PTEhf",
        "outputId": "97314568-a459-449c-cfe4-ec00a2abdf3a"
      },
      "execution_count": null,
      "outputs": [
        {
          "output_type": "stream",
          "name": "stdout",
          "text": [
            "('mango', 77, True)\n",
            "<class 'tuple'>\n"
          ]
        }
      ]
    },
    {
      "cell_type": "code",
      "source": [
        "#Access Tuple Items\n",
        "fruit=(\"banana\",\"apple\",\"kiwi\",\"orange\")\n",
        "print(fruit[2])\n",
        "print(fruit[-2])\n",
        "print(fruit[1:2])\n",
        "print(fruit[:-1])\n",
        "if \"orange\" in fruit:\n",
        "    print(\"yes\")\n",
        "\n"
      ],
      "metadata": {
        "colab": {
          "base_uri": "https://localhost:8080/"
        },
        "id": "t2IAQ2EuTby-",
        "outputId": "3adc0145-5e91-4ef1-af4e-efb52ccdada8"
      },
      "execution_count": null,
      "outputs": [
        {
          "output_type": "stream",
          "name": "stdout",
          "text": [
            "kiwi\n",
            "kiwi\n",
            "('apple',)\n",
            "('banana', 'apple', 'kiwi')\n",
            "yes\n"
          ]
        }
      ]
    },
    {
      "cell_type": "code",
      "source": [
        "fruits=(\"banana\",\"apple\")\n",
        "fruit=list(fruits)\n",
        "fruit.remove(\"apple\")\n",
        "print(fruit)\n"
      ],
      "metadata": {
        "id": "ZDYkJVa6UjRW",
        "colab": {
          "base_uri": "https://localhost:8080/"
        },
        "outputId": "c137b4e9-88b4-49a5-bebe-85f9a92a131a"
      },
      "execution_count": null,
      "outputs": [
        {
          "output_type": "stream",
          "name": "stdout",
          "text": [
            "['banana']\n"
          ]
        }
      ]
    },
    {
      "cell_type": "code",
      "source": [
        "fruits=(\"banana\",\"cherry\",\"apples\")\n",
        "(red,yellow,blue)=fruits\n",
        "print(yellow)"
      ],
      "metadata": {
        "id": "3v1o1xK_UYy2",
        "colab": {
          "base_uri": "https://localhost:8080/"
        },
        "outputId": "9866455f-069c-4549-c1a4-bb36d4518b55"
      },
      "execution_count": null,
      "outputs": [
        {
          "output_type": "stream",
          "name": "stdout",
          "text": [
            "cherry\n"
          ]
        }
      ]
    },
    {
      "cell_type": "code",
      "source": [
        "fruits=(\"mango\",\"banana\",\"apple\",\"cherry\")\n",
        "(red,green,*blue)=fruits\n",
        "print(blue)\n",
        "print(*red)\n"
      ],
      "metadata": {
        "colab": {
          "base_uri": "https://localhost:8080/"
        },
        "id": "ks4Pe88rpjkG",
        "outputId": "633202f2-e86d-44d0-aa42-89aa5553eb73"
      },
      "execution_count": null,
      "outputs": [
        {
          "output_type": "stream",
          "name": "stdout",
          "text": [
            "['apple', 'cherry']\n",
            "m a n g o\n",
            "['apple', 'cherry']\n",
            "cherry\n"
          ]
        }
      ]
    },
    {
      "cell_type": "code",
      "source": [
        "fruits=(\"mango\",\"banana\",\"apple\",\"cherry\",\"papaya\")\n",
        "(red,green,*blue,yellow)=fruits\n",
        "print(blue)\n",
        "print(yellow)\n"
      ],
      "metadata": {
        "colab": {
          "base_uri": "https://localhost:8080/"
        },
        "id": "hOKn9_1zpOG1",
        "outputId": "275ad278-1812-4a5f-f2de-fdc495e03aa9"
      },
      "execution_count": null,
      "outputs": [
        {
          "output_type": "stream",
          "name": "stdout",
          "text": [
            "['apple', 'cherry']\n",
            "papaya\n"
          ]
        }
      ]
    },
    {
      "cell_type": "code",
      "source": [
        "#loops\n",
        "fruits = (\"apple\", \"banana\", \"cherry\",\"gauva\")\n",
        "for f in fruits:\n",
        "  print(f)"
      ],
      "metadata": {
        "colab": {
          "base_uri": "https://localhost:8080/"
        },
        "id": "ZlVTukm6q3W1",
        "outputId": "55dd72b6-2102-4f19-b7bd-6f37040a4ff2"
      },
      "execution_count": null,
      "outputs": [
        {
          "output_type": "stream",
          "name": "stdout",
          "text": [
            "apple\n",
            "banana\n",
            "cherry\n",
            "gauva\n"
          ]
        }
      ]
    },
    {
      "cell_type": "code",
      "source": [
        "fruits=(\"cherry\",\"mango\",\"kiwi\",\"watermelon\",\"apple\",\"pineapple\")\n",
        "for x in range(len(fruits)):\n",
        "  print(fruits[x])"
      ],
      "metadata": {
        "colab": {
          "base_uri": "https://localhost:8080/"
        },
        "id": "nkNMt-MMrfOE",
        "outputId": "0e544d6c-8462-4558-e6d8-2656dcbe1b0f"
      },
      "execution_count": null,
      "outputs": [
        {
          "output_type": "stream",
          "name": "stdout",
          "text": [
            "cherry\n",
            "mango\n",
            "kiwi\n",
            "watermelon\n",
            "apple\n",
            "pineapple\n"
          ]
        }
      ]
    },
    {
      "cell_type": "code",
      "source": [
        "fruits=(\"cherry\",\"mango\",\"kiwi\",\"watermelon\",\"apple\",\"pineapple\")\n",
        "i=0\n",
        "while (i< len(fruits)):\n",
        "  print(fruits[i])\n",
        "  i=i+1"
      ],
      "metadata": {
        "colab": {
          "base_uri": "https://localhost:8080/"
        },
        "id": "Ym8MHR3Fsn7l",
        "outputId": "507f3f6f-a0fa-4818-c366-2ef0d6e20bf8"
      },
      "execution_count": null,
      "outputs": [
        {
          "output_type": "stream",
          "name": "stdout",
          "text": [
            "cherry\n",
            "mango\n",
            "kiwi\n",
            "watermelon\n",
            "apple\n",
            "pineapple\n"
          ]
        }
      ]
    },
    {
      "cell_type": "code",
      "source": [
        "fruits=(\"apples\",\"banana\",\"kiwi\")\n",
        "numbers=(143,)\n",
        "joinedtuple=fruits + numbers\n",
        "print(joinedtuple)"
      ],
      "metadata": {
        "colab": {
          "base_uri": "https://localhost:8080/"
        },
        "id": "iiWTKsaeterE",
        "outputId": "bde50e4b-4929-4dc2-c3f0-eb5fe2ecec02"
      },
      "execution_count": null,
      "outputs": [
        {
          "output_type": "stream",
          "name": "stdout",
          "text": [
            "('apples', 'banana', 'kiwi', 143)\n"
          ]
        }
      ]
    },
    {
      "cell_type": "code",
      "source": [
        "fruits=(\"apple\",\"banana\")\n",
        "fruits= fruits* 3\n",
        "print(fruits)\n"
      ],
      "metadata": {
        "colab": {
          "base_uri": "https://localhost:8080/"
        },
        "id": "SEZeaX_At1-1",
        "outputId": "20ef499d-bd61-4b4e-ea85-df93fc3b6ecf"
      },
      "execution_count": null,
      "outputs": [
        {
          "output_type": "stream",
          "name": "stdout",
          "text": [
            "('apple', 'banana', 'apple', 'banana', 'apple', 'banana')\n"
          ]
        }
      ]
    },
    {
      "cell_type": "code",
      "source": [
        "fruits=(\"cherry\",\"mango\",\"kiwi\",\"watermelon\",\"apple\",\"pineapple\",\"watermelon\")\n",
        "fruits.count(\"kk\")\n",
        "fruits.index(\"watermelon\")"
      ],
      "metadata": {
        "colab": {
          "base_uri": "https://localhost:8080/"
        },
        "id": "jJ6c8mVwuW2U",
        "outputId": "39df5e09-8fbf-4bde-8b53-d08b7f4a5e3e"
      },
      "execution_count": null,
      "outputs": [
        {
          "output_type": "execute_result",
          "data": {
            "text/plain": [
              "3"
            ]
          },
          "metadata": {},
          "execution_count": 87
        }
      ]
    },
    {
      "cell_type": "code",
      "source": [
        ""
      ],
      "metadata": {
        "id": "GXToPw7GzOS6"
      },
      "execution_count": null,
      "outputs": []
    }
  ]
}