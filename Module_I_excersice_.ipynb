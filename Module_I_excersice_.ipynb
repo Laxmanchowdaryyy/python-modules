{
  "nbformat": 4,
  "nbformat_minor": 0,
  "metadata": {
    "colab": {
      "name": "Module I excersice:.ipynb",
      "provenance": [],
      "collapsed_sections": [],
      "authorship_tag": "ABX9TyMGUUyhJZT/9NxXDR8UUkAk",
      "include_colab_link": true
    },
    "kernelspec": {
      "name": "python3",
      "display_name": "Python 3"
    },
    "language_info": {
      "name": "python"
    }
  },
  "cells": [
    {
      "cell_type": "markdown",
      "metadata": {
        "id": "view-in-github",
        "colab_type": "text"
      },
      "source": [
        "<a href=\"https://colab.research.google.com/github/Laxmanchowdaryyy/python-modules/blob/Module-1/Module_I_excersice_.ipynb\" target=\"_parent\"><img src=\"https://colab.research.google.com/assets/colab-badge.svg\" alt=\"Open In Colab\"/></a>"
      ]
    },
    {
      "cell_type": "code",
      "execution_count": null,
      "metadata": {
        "colab": {
          "base_uri": "https://localhost:8080/"
        },
        "id": "g8g7_QQRLnfw",
        "outputId": "dd7c8ae2-5908-477a-f63a-ae1672a609e9"
      },
      "outputs": [
        {
          "output_type": "stream",
          "name": "stdout",
          "text": [
            "enter any input5\n",
            "5\n"
          ]
        }
      ],
      "source": [
        "#Accept input from user and store it in variable and print the value\n",
        "a=input(\"enter any input\")\n",
        "print(a)\n"
      ]
    },
    {
      "cell_type": "code",
      "source": [
        "#Use of print statements and use of (.format )for printing different data types\n",
        "a=int(input(\"\"))\n",
        "print(float(a))\n",
        "print(str(a))\n",
        "print(complex(a))"
      ],
      "metadata": {
        "id": "aA0ojuL-MdJh",
        "colab": {
          "base_uri": "https://localhost:8080/"
        },
        "outputId": "428ce43b-d26e-45f6-c9fe-43440810c796"
      },
      "execution_count": null,
      "outputs": [
        {
          "output_type": "stream",
          "name": "stdout",
          "text": [
            "5\n",
            "5.0\n",
            "5\n",
            "(5+0j)\n",
            "5\n"
          ]
        }
      ]
    },
    {
      "cell_type": "code",
      "source": [
        "a=int(input())\n",
        "b=int(input())\n",
        "print(a+b)\n",
        "print(a-b)\n",
        "print(a*b)\n",
        "print(a/b)"
      ],
      "metadata": {
        "id": "Xf0mdQ3VL2xx"
      },
      "execution_count": null,
      "outputs": []
    },
    {
      "cell_type": "code",
      "source": [
        "a=int(input())\n",
        "print(type(a))\n",
        "b=float(a)\n",
        "print(type(b))"
      ],
      "metadata": {
        "colab": {
          "base_uri": "https://localhost:8080/"
        },
        "id": "_-yiUSHbL4Kp",
        "outputId": "89c24506-fae1-40ee-8e92-f6c8ce3460f7"
      },
      "execution_count": null,
      "outputs": [
        {
          "output_type": "stream",
          "name": "stdout",
          "text": [
            "5\n",
            "<class 'int'>\n",
            "<class 'float'>\n"
          ]
        }
      ]
    },
    {
      "cell_type": "code",
      "source": [
        "#hours to minutes\n",
        "a=int(input(\"enter in hours\"))\n",
        "print(a*60,\"seconds\")"
      ],
      "metadata": {
        "colab": {
          "base_uri": "https://localhost:8080/"
        },
        "id": "c7BvUWprL_sj",
        "outputId": "e872b3bd-66c0-46ae-ba13-5b156cb92c5d"
      },
      "execution_count": null,
      "outputs": [
        {
          "output_type": "stream",
          "name": "stdout",
          "text": [
            "enter in hours5\n",
            "300 seconds\n"
          ]
        }
      ]
    },
    {
      "cell_type": "code",
      "source": [
        "a=int(input(\"enter in miles\"))\n",
        "print(a*1.60934,\"KM\")"
      ],
      "metadata": {
        "colab": {
          "base_uri": "https://localhost:8080/"
        },
        "id": "aJqeQFC2MHKj",
        "outputId": "dfef41a5-3fda-4afc-bcdd-bd21e3be1858"
      },
      "execution_count": null,
      "outputs": [
        {
          "output_type": "stream",
          "name": "stdout",
          "text": [
            "5\n",
            "8.0467 KM\n"
          ]
        }
      ]
    },
    {
      "cell_type": "code",
      "source": [
        "#usage of mathematical fuctions in python like math.ceil,floor,fabs,fmod,trunc,pow,sqrt etc\n",
        "import math\n",
        "a=float(input(\"\"))\n",
        "b=float(input(\"\"))\n",
        "print(math.ceil(a)) #rounding off to nearest number and printing greatest integer\n",
        "print(math.floor(a)) #taking only integer value and printing smallest integer\n",
        "print(math.fabs(a))   #printing the modulus value\n",
        "print(math.fmod(a,b)) #remainder\n",
        "print(math.sqrt(a)) #squaring\n",
        "print(math.pow(a,b))\n",
        "print(math.trunc(a)) "
      ],
      "metadata": {
        "id": "YIY1J5x7MWn7"
      },
      "execution_count": null,
      "outputs": []
    },
    {
      "cell_type": "code",
      "source": [
        "#maths calculator\n",
        "a=float(input(\"\"))\n",
        "b=float(input(\"\"))\n",
        "c=str(input(\"\"))\n",
        "if c=='+':\n",
        " print(a+b)\n",
        "elif c=='-' :\n",
        "    print(a-b)\n",
        "elif c=='*':\n",
        "    print(a*b)\n",
        "else:\n",
        "    print(a/b)"
      ],
      "metadata": {
        "id": "pqqJnd3fDQf_"
      },
      "execution_count": null,
      "outputs": []
    },
    {
      "cell_type": "code",
      "source": [
        "for i in range(1,100):\n",
        "    if i%2==0:\n",
        "        print(i)"
      ],
      "metadata": {
        "id": "999nN6ZjDTAF"
      },
      "execution_count": null,
      "outputs": []
    },
    {
      "cell_type": "code",
      "source": [
        "#grades\n",
        "a=int(input(\"\"))\n",
        "b=int(input(\"\"))\n",
        "c=int(input(\"\"))\n",
        "d=int(input(\"\"))\n",
        "e=int(input(\"\"))\n",
        "f=(a+b+c+d+e)/5\n",
        "if f>=90:\n",
        "    print(\"O\")\n",
        "elif f>80 and f<90:\n",
        "    print(\"A\")\n",
        "else:\n",
        "    print(\"FAIL\")"
      ],
      "metadata": {
        "id": "a3riQ9lhDVaW"
      },
      "execution_count": null,
      "outputs": []
    },
    {
      "cell_type": "code",
      "source": [
        "#compound\n",
        "p = float(input(\"\"))\n",
        "r = float(input(\"\"))\n",
        "n = int(input(\"\"))\n",
        "t = int(input(\"\"))\n",
        "amount = p * (1 + r/(100 * n))**(n*t)\n",
        "ci = amount - p;\n",
        "print(\"Compound interest = \",round(ci, 2))"
      ],
      "metadata": {
        "id": "7TFjxKD8DYCt"
      },
      "execution_count": null,
      "outputs": []
    },
    {
      "cell_type": "code",
      "source": [
        "#factorial\n",
        "n=int(input(\"enter a number \"))\n",
        "fac=1\n",
        "for i in range(1,n+1):\n",
        "  fac=fac*i\n",
        "\n",
        "print(fac)"
      ],
      "metadata": {
        "id": "Bsp7Esl5DbBy"
      },
      "execution_count": null,
      "outputs": []
    },
    {
      "cell_type": "code",
      "source": [
        "#fibonacci\n",
        "n = int(input(\"\"))\n",
        "n1, n2 = 0, 1\n",
        "count = 0\n",
        "if n <= 0:\n",
        "   print(\"Please enter a positive integer\")\n",
        "elif n == 1:\n",
        "   print(n1)\n",
        "else:\n",
        "   print(\"Fibonacci sequence:\")\n",
        "   while count < n:\n",
        "       print(n1)\n",
        "       nth = n1 + n2\n",
        "       n1 = n2\n",
        "       n2 = nth\n",
        "       count += 1"
      ],
      "metadata": {
        "id": "YRhiCftWD2KG"
      },
      "execution_count": null,
      "outputs": []
    },
    {
      "cell_type": "code",
      "source": [
        "#gcd\n",
        "a=int(input(\"enter a number\"))\n",
        "b=int(input(\"enter a number\"))\n",
        "k=a if a<b else b\n",
        "while True:\n",
        "    if a%k==0 and b%k==0:\n",
        "     break\n",
        "    k -=1\n",
        "print(k)"
      ],
      "metadata": {
        "id": "LvOLnI_OD4fd"
      },
      "execution_count": null,
      "outputs": []
    },
    {
      "cell_type": "code",
      "source": [
        "#pallindrome\n",
        "a = str(input(\"\"))\n",
        "a = a.casefold()\n",
        "b = reversed(a)\n",
        "if list(a) == list(b):\n",
        "   print(\"The string is a palindrome.\")\n",
        "else:\n",
        "   print(\"The string is not a palindrome.\")\n"
      ],
      "metadata": {
        "id": "EOAz_f_kD6Wt"
      },
      "execution_count": null,
      "outputs": []
    },
    {
      "cell_type": "code",
      "source": [
        "#perfect\n",
        "n=int(input(\"Enter the number: \"))  \n",
        "sum=0  \n",
        "for i in range(1,n):  \n",
        "    if (n%i==0):  \n",
        "        sum=sum+i  \n",
        "if(sum==n):  \n",
        "    print(\"perfect number\")  \n",
        "else:  \n",
        "    print(\"not a perfect number\")  "
      ],
      "metadata": {
        "id": "F17abvOND8e1"
      },
      "execution_count": null,
      "outputs": []
    },
    {
      "cell_type": "code",
      "source": [
        "#strong\n",
        "sum=0\n",
        "num=int(input(\"\"))\n",
        "a=num\n",
        "while(num):\n",
        "    i=1\n",
        "    f=1\n",
        "    r=num%10\n",
        "    while(i<=r):\n",
        "        f=f*i\n",
        "        i=i+1\n",
        "    sum=sum+f\n",
        "    num=num//10\n",
        "if(sum==a):\n",
        "    print(\"The number is a strong number\")\n",
        "else:\n",
        "    print(\"The number is not a strong number\")"
      ],
      "metadata": {
        "id": "UIyCGdMHD-dt"
      },
      "execution_count": null,
      "outputs": []
    },
    {
      "cell_type": "code",
      "source": [
        "n=int(input(\"\"))\n",
        "i=0\n",
        "while i<n:\n",
        "  i = i + 1\n",
        "  if i%2==0:\n",
        "    print(i)"
      ],
      "metadata": {
        "id": "qllAfearECHk",
        "outputId": "43c0b3c9-1245-4e5a-e75a-f64e783cc403",
        "colab": {
          "base_uri": "https://localhost:8080/"
        }
      },
      "execution_count": null,
      "outputs": [
        {
          "output_type": "stream",
          "name": "stdout",
          "text": [
            "5\n",
            "2\n",
            "4\n"
          ]
        }
      ]
    },
    {
      "cell_type": "code",
      "source": [
        ""
      ],
      "metadata": {
        "id": "VLo_ptSXEEQV"
      },
      "execution_count": null,
      "outputs": []
    }
  ]
}