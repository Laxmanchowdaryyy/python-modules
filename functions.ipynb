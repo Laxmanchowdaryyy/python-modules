{
  "nbformat": 4,
  "nbformat_minor": 0,
  "metadata": {
    "colab": {
      "name": "functions.ipynb",
      "provenance": [],
      "collapsed_sections": [],
      "authorship_tag": "ABX9TyM/z7HMQyxeu9oLNVAIfRNI",
      "include_colab_link": true
    },
    "kernelspec": {
      "name": "python3",
      "display_name": "Python 3"
    },
    "language_info": {
      "name": "python"
    }
  },
  "cells": [
    {
      "cell_type": "markdown",
      "metadata": {
        "id": "view-in-github",
        "colab_type": "text"
      },
      "source": [
        "<a href=\"https://colab.research.google.com/github/Laxmanchowdaryyy/python-modules/blob/Module-2/functions.ipynb\" target=\"_parent\"><img src=\"https://colab.research.google.com/assets/colab-badge.svg\" alt=\"Open In Colab\"/></a>"
      ]
    },
    {
      "cell_type": "code",
      "execution_count": null,
      "metadata": {
        "colab": {
          "base_uri": "https://localhost:8080/"
        },
        "id": "ApDiU-GwXHqC",
        "outputId": "2ffb0fc2-1eda-45f9-d8c6-6841b50f2f39"
      },
      "outputs": [
        {
          "output_type": "stream",
          "name": "stdout",
          "text": [
            "rocky\n",
            "garuda\n"
          ]
        }
      ],
      "source": [
        "#calling a function\n",
        "def KGF():\n",
        "  print(\"rocky\")\n",
        "  print(\"garuda\")\n",
        "KGF()"
      ]
    },
    {
      "cell_type": "code",
      "source": [
        "#PASSING ARGUMENTS INTO FUNCTIONS\n",
        "def KGF(hero):\n",
        "  print(hero + \" KGF\")\n",
        "KGF(\"ROCKY\")\n",
        "KGF(\"PRASHANTH NEEL\")\n",
        "KGF(\"REENA\")"
      ],
      "metadata": {
        "colab": {
          "base_uri": "https://localhost:8080/"
        },
        "id": "p8YRd-08Xaob",
        "outputId": "548caaf1-2b82-43ee-d971-5e7ca39a5537"
      },
      "execution_count": null,
      "outputs": [
        {
          "output_type": "stream",
          "name": "stdout",
          "text": [
            "ROCKY KGF\n",
            "PRASHANTH NEEL KGF\n",
            "REENA KGF\n"
          ]
        }
      ]
    },
    {
      "cell_type": "code",
      "source": [
        "def bike(Royal_Enfield):\n",
        "  print(\"ROYALENFIELD \" + Royal_Enfield)\n",
        "bike(\"Himalayan\")\n",
        "bike(\"Continental GT650\")\n",
        "bike(\"Classic 350\")\n",
        "bike(\"scram 411\")"
      ],
      "metadata": {
        "colab": {
          "base_uri": "https://localhost:8080/"
        },
        "id": "SfMgT03TZknw",
        "outputId": "21954ea6-de7d-44ff-f22e-4df17161271a"
      },
      "execution_count": null,
      "outputs": [
        {
          "output_type": "stream",
          "name": "stdout",
          "text": [
            "ROYALENFIELD Himalayan\n",
            "ROYALENFIELD Continental GT650\n",
            "ROYALENFIELD Classic 350\n",
            "ROYALENFIELD scram 411\n"
          ]
        }
      ]
    },
    {
      "cell_type": "code",
      "source": [
        "def voting(name,age,gender):\n",
        "  print(name + age + gender)\n",
        "voting(\"Laxman \",\"18 \",\"M \")\n",
        "voting(\"Sai Charan \",\"11 \",\"M \")\n",
        "voting(\"Sai Pavan \",\"110 \",\"M \")"
      ],
      "metadata": {
        "colab": {
          "base_uri": "https://localhost:8080/"
        },
        "id": "XyLLopKea3lg",
        "outputId": "4e928ec8-ad16-4d24-c4f5-9c947fd308be"
      },
      "execution_count": null,
      "outputs": [
        {
          "output_type": "stream",
          "name": "stdout",
          "text": [
            "Laxman 18 M \n",
            "Sai Charan 11 M \n",
            "Sai Pavan 110 M \n"
          ]
        }
      ]
    },
    {
      "cell_type": "code",
      "source": [
        "def kids(**kid):\n",
        "  print(\"His first name is \" + kid[\"fname\"])\n",
        "kids(fname = \"komaram\", lname = \"bheem\")"
      ],
      "metadata": {
        "colab": {
          "base_uri": "https://localhost:8080/"
        },
        "id": "dfj4lBgWcu6v",
        "outputId": "dc43ddf5-db96-40d0-a67b-109fe503ed0d"
      },
      "execution_count": null,
      "outputs": [
        {
          "output_type": "stream",
          "name": "stdout",
          "text": [
            "His first name is komaram\n"
          ]
        }
      ]
    },
    {
      "cell_type": "code",
      "source": [
        "#PYTHON BUILT IN FUNCTIONS\n",
        "#abs() absolute\n",
        "a=-25.6\n",
        "b=abs(a)\n",
        "print(b)\n",
        "a=25\n",
        "x=abs(a+3j)\n",
        "print(x)"
      ],
      "metadata": {
        "colab": {
          "base_uri": "https://localhost:8080/"
        },
        "id": "Oeay89QQiYjd",
        "outputId": "5d5db2c1-6a33-420b-8c70-b34c1dc10db1"
      },
      "execution_count": null,
      "outputs": [
        {
          "output_type": "stream",
          "name": "stdout",
          "text": [
            "25.6\n",
            "25.179356624028344\n"
          ]
        }
      ]
    },
    {
      "cell_type": "code",
      "source": [
        "#Arbitrary Arguments, *args\n",
        "#If the number of arguments is unknown, add a * before the parameter name:\n",
        "x=int(input(\"enter x\"))\n",
        "def kids(*names):\n",
        "  print(\"The elder kid here is \"+ names[x])\n",
        "kids(\"saicharan\",\"saipavan\",\"saketh\")"
      ],
      "metadata": {
        "id": "bzDbnVx6lYAs",
        "colab": {
          "base_uri": "https://localhost:8080/"
        },
        "outputId": "de442e2c-cde5-44ee-d2a9-96ff2e4c0969"
      },
      "execution_count": null,
      "outputs": [
        {
          "output_type": "stream",
          "name": "stdout",
          "text": [
            "enter x0\n",
            "The elder kid here is saicharan\n"
          ]
        }
      ]
    },
    {
      "cell_type": "code",
      "source": [
        "#$Arbitrary Keyword Arguments, **kwargs\n",
        "#If the number of keyword arguments is unknown, add a double ** before the parameter name:\n",
        "def children(**names):\n",
        "  print(\"The last name of the child is \"+ names[\"lname\"])\n",
        "children(fname= \"sai\", lname= \"charan\")"
      ],
      "metadata": {
        "colab": {
          "base_uri": "https://localhost:8080/"
        },
        "id": "SWGzu7YxKHxe",
        "outputId": "09e671a7-077c-490f-e17a-58900de5dd3a"
      },
      "execution_count": null,
      "outputs": [
        {
          "output_type": "stream",
          "name": "stdout",
          "text": [
            "The last name of the child is charan\n"
          ]
        }
      ]
    },
    {
      "cell_type": "code",
      "source": [
        "#Default Parameter Value\n",
        "def countries(country = \"India\"):\n",
        "  print(\"he is from\" + country)\n",
        "countries (\"USA\")\n",
        "countries(\"UAE\")\n",
        "countries ()"
      ],
      "metadata": {
        "colab": {
          "base_uri": "https://localhost:8080/"
        },
        "id": "4C7alGw9LF3L",
        "outputId": "b712e8bd-75f7-4501-991c-062125b14cc2"
      },
      "execution_count": null,
      "outputs": [
        {
          "output_type": "stream",
          "name": "stdout",
          "text": [
            "he is fromUSA\n",
            "he is fromUAE\n",
            "he is fromIndia\n"
          ]
        }
      ]
    }
  ]
}