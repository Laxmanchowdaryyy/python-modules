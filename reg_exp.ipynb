{
  "nbformat": 4,
  "nbformat_minor": 0,
  "metadata": {
    "colab": {
      "name": "reg_exp.ipynb",
      "provenance": [],
      "collapsed_sections": [],
      "authorship_tag": "ABX9TyPP8PwPcvjnvVOlNxRigzaE",
      "include_colab_link": true
    },
    "kernelspec": {
      "name": "python3",
      "display_name": "Python 3"
    },
    "language_info": {
      "name": "python"
    }
  },
  "cells": [
    {
      "cell_type": "markdown",
      "metadata": {
        "id": "view-in-github",
        "colab_type": "text"
      },
      "source": [
        "<a href=\"https://colab.research.google.com/github/Laxmanchowdaryyy/python-modules/blob/Module-5/reg_exp.ipynb\" target=\"_parent\"><img src=\"https://colab.research.google.com/assets/colab-badge.svg\" alt=\"Open In Colab\"/></a>"
      ]
    },
    {
      "cell_type": "code",
      "execution_count": null,
      "metadata": {
        "colab": {
          "base_uri": "https://localhost:8080/"
        },
        "id": "FU8WrD606NJn",
        "outputId": "73f2662f-03a6-485f-ab01-75b94f9819b4"
      },
      "outputs": [
        {
          "output_type": "stream",
          "name": "stdout",
          "text": [
            "yes\n"
          ]
        }
      ],
      "source": [
        "import re\n",
        "txt=\"I'm studying in GITAM university\"\n",
        "x=re.search(\"I.*y$\",txt)\n",
        "if x:\n",
        "  print(\"yes\")\n",
        "else:\n",
        "  print(\"no\")\n"
      ]
    },
    {
      "cell_type": "code",
      "source": [
        "import re\n",
        "txt = \"I'm studying in GITAM university\"\n",
        "x = re.findall(\"dy\", txt)\n",
        "print(x)"
      ],
      "metadata": {
        "id": "aruoNTYX8p0B",
        "colab": {
          "base_uri": "https://localhost:8080/"
        },
        "outputId": "743402dc-e4fd-45cd-84d7-59f7bfc6a13c"
      },
      "execution_count": null,
      "outputs": [
        {
          "output_type": "stream",
          "name": "stdout",
          "text": [
            "['dy']\n"
          ]
        }
      ]
    },
    {
      "cell_type": "code",
      "source": [
        "import re\n",
        "txt = \"I'm studying in GITAM university\"\n",
        "x = re.findall(\"deemed\", txt)\n",
        "print(x)\n",
        "if (x):\n",
        "  print(\"Yes, there is at least one match!\")\n",
        "else:\n",
        "  print(\"No match\")"
      ],
      "metadata": {
        "colab": {
          "base_uri": "https://localhost:8080/"
        },
        "id": "65bE1tuo_e3q",
        "outputId": "6a58a913-d46a-4bd5-fde5-d2932bf7666d"
      },
      "execution_count": null,
      "outputs": [
        {
          "output_type": "stream",
          "name": "stdout",
          "text": [
            "[]\n",
            "No match\n"
          ]
        }
      ]
    },
    {
      "cell_type": "code",
      "source": [
        "import re\n",
        "\n",
        "txt = \"The rain in Spain\"\n",
        "x = re.search(\"Portugal\", txt)\n",
        "print(x)"
      ],
      "metadata": {
        "colab": {
          "base_uri": "https://localhost:8080/"
        },
        "id": "ufJmLj01oaCH",
        "outputId": "33d454ad-4330-4f97-b447-6cef2dc14790"
      },
      "execution_count": null,
      "outputs": [
        {
          "output_type": "stream",
          "name": "stdout",
          "text": [
            "None\n"
          ]
        }
      ]
    },
    {
      "cell_type": "code",
      "source": [
        "#Split at each white-space character:\n",
        "import re\n",
        "txt = \"Gitam university visakhapatnam\"\n",
        "x = re.split(\"\\s\", txt)\n",
        "print(x)"
      ],
      "metadata": {
        "id": "wuBaTlKD_uc6",
        "colab": {
          "base_uri": "https://localhost:8080/"
        },
        "outputId": "7c1159b5-ece1-4e27-908e-dd6462cc46e5"
      },
      "execution_count": null,
      "outputs": [
        {
          "output_type": "stream",
          "name": "stdout",
          "text": [
            "['Gitam', 'university', 'visakhapatnam']\n"
          ]
        }
      ]
    },
    {
      "cell_type": "code",
      "source": [
        "#Split the string only at the first occurrence:\n",
        "import re\n",
        "txt= \"gitam university visakhapatnam\"\n",
        "x = re.split(\"\\s\", txt, 1)\n",
        "print(x)"
      ],
      "metadata": {
        "colab": {
          "base_uri": "https://localhost:8080/"
        },
        "id": "_qMgwcuQxVD9",
        "outputId": "514e4064-c141-48c8-90ab-9137e6c1744e"
      },
      "execution_count": null,
      "outputs": [
        {
          "output_type": "stream",
          "name": "stdout",
          "text": [
            "['gitam', 'university visakhapatnam']\n"
          ]
        }
      ]
    },
    {
      "cell_type": "code",
      "source": [
        "#Replace every white-space character with a number:\n",
        "import re\n",
        "txt = \"Gitam  Deemed to BE University\"\n",
        "x = re.sub(\"\\s\", \"5\", txt)\n",
        "print(x)"
      ],
      "metadata": {
        "colab": {
          "base_uri": "https://localhost:8080/"
        },
        "id": "LbOCdv8cxj4E",
        "outputId": "0eef0226-abe9-4d95-ead7-2e3aeaf4f445"
      },
      "execution_count": null,
      "outputs": [
        {
          "output_type": "stream",
          "name": "stdout",
          "text": [
            "Gitam55Deemed5to5BE5University\n"
          ]
        }
      ]
    },
    {
      "cell_type": "code",
      "source": [
        "#Replace the first 2 occurrences:\n",
        "import re\n",
        "txt=\"Gitam University Deemed to be University\"\n",
        "x= re.sub(\"\\s\",\"5\",txt,2)\n",
        "print(x)"
      ],
      "metadata": {
        "id": "KzvPenrMxyQ-",
        "colab": {
          "base_uri": "https://localhost:8080/"
        },
        "outputId": "16db62cc-bc1d-4da4-d871-fa63e18dbb44"
      },
      "execution_count": null,
      "outputs": [
        {
          "output_type": "stream",
          "name": "stdout",
          "text": [
            "Gitam5University5Deemed to be University\n"
          ]
        }
      ]
    },
    {
      "cell_type": "code",
      "source": [
        "#Do a search that will return a Match Object:\n",
        "import re\n",
        "text=\"I'm studying in Gitam, Deemed to be university\"\n",
        "a=re.search(\"ee\",text)\n",
        "print(a)  #this will print an object\n"
      ],
      "metadata": {
        "colab": {
          "base_uri": "https://localhost:8080/"
        },
        "id": "r7G_XDHznM6e",
        "outputId": "8b2562a0-2b16-419e-d89a-eb7513ac05a0"
      },
      "execution_count": null,
      "outputs": [
        {
          "output_type": "stream",
          "name": "stdout",
          "text": [
            "<re.Match object; span=(24, 26), match='ee'>\n"
          ]
        }
      ]
    },
    {
      "cell_type": "code",
      "source": [
        "#.span() returns a tuple containing the start-, and end positions of the match.\n",
        "#.string returns the string passed into the function\n",
        "#.group() returns the part of the string where there was a match\n",
        "import re\n",
        "txt = \"The rain in Spain and India\"\n",
        "x = re.search(r\"\\bS\\w+\", txt)\n",
        "print(x.span())\n",
        "\n",
        "\n",
        "a = re.search(r\"\\bS\\w+\", txt)\n",
        "print(a.string)\n",
        "\n",
        "b = re.search(r\"\\bS\\w+\", txt)\n",
        "print(b.group())"
      ],
      "metadata": {
        "colab": {
          "base_uri": "https://localhost:8080/"
        },
        "id": "2yapdF94nwkU",
        "outputId": "e5656861-6827-49ca-a2c3-7103d9de0e2a"
      },
      "execution_count": null,
      "outputs": [
        {
          "output_type": "stream",
          "name": "stdout",
          "text": [
            "(12, 17)\n",
            "The rain in Spain and India\n",
            "Spain\n"
          ]
        }
      ]
    },
    {
      "cell_type": "code",
      "source": [
        "##Find all digit characters:\n",
        "import re\n",
        "txt = \"I have scored 8.6 in sem 1\"\n",
        "x = re.findall(\"\\d\", txt)\n",
        "print(x)"
      ],
      "metadata": {
        "colab": {
          "base_uri": "https://localhost:8080/"
        },
        "id": "iAdUbvdbsmdX",
        "outputId": "261577fa-262d-444a-ca5d-41d4b40b24a1"
      },
      "execution_count": null,
      "outputs": [
        {
          "output_type": "stream",
          "name": "stdout",
          "text": [
            "['8', '6', '1']\n"
          ]
        }
      ]
    },
    {
      "cell_type": "code",
      "source": [
        "import re\n",
        "txt = \"hello , Gitam University\"\n",
        "#Check if the string ends with 'planet':\n",
        "x = re.findall(\"University$\", txt)\n",
        "if x:\n",
        "  print(\"Yes, the string ends with 'planet'\")\n",
        "else:\n",
        "  print(\"No match\")"
      ],
      "metadata": {
        "id": "VtJoIWNZtHrx",
        "colab": {
          "base_uri": "https://localhost:8080/",
          "height": 0
        },
        "outputId": "bc500493-0cc4-45a4-cc33-e5c298796be4"
      },
      "execution_count": 2,
      "outputs": [
        {
          "output_type": "stream",
          "name": "stdout",
          "text": [
            "No match\n"
          ]
        }
      ]
    },
    {
      "cell_type": "code",
      "source": [
        "import re\n",
        "txt = \"Hello GITAM University\"\n",
        "#Search for a sequence that starts with \"he\", followed by 0 or more  (any) characters, and an \"o\":\n",
        "x = re.findall(\"GI.*y\", txt)\n",
        "print(x)"
      ],
      "metadata": {
        "colab": {
          "base_uri": "https://localhost:8080/",
          "height": 0
        },
        "id": "ck6usQOGlJRw",
        "outputId": "63193fcf-be86-48bd-f5b7-e74d3439634f"
      },
      "execution_count": 4,
      "outputs": [
        {
          "output_type": "stream",
          "name": "stdout",
          "text": [
            "['GITAM University']\n"
          ]
        }
      ]
    },
    {
      "cell_type": "code",
      "source": [
        "import re\n",
        "txt = \"Gitam University\"\n",
        "#Search for a sequence that starts with \"he\", followed excactly 2 (any) characters, and an \"o\":\n",
        "x = re.findall(\"Un.{7}y\", txt)\n",
        "print(x)\n"
      ],
      "metadata": {
        "colab": {
          "base_uri": "https://localhost:8080/",
          "height": 0
        },
        "id": "8kZzjmemldvS",
        "outputId": "e577f48b-6ea7-4457-cdf6-426a443ceded"
      },
      "execution_count": 7,
      "outputs": [
        {
          "output_type": "stream",
          "name": "stdout",
          "text": [
            "['University']\n"
          ]
        }
      ]
    },
    {
      "cell_type": "code",
      "source": [
        "import re\n",
        "txt = \"The rain in Spain\"\n",
        "#Check if the string has any a, r, or n characters:\n",
        "x = re.findall(\"[arn]\", txt)\n",
        "print(x)\n",
        "if x:\n",
        "  print(\"Yes, there is at least one match!\")\n",
        "else:\n",
        "  print(\"No match\")"
      ],
      "metadata": {
        "colab": {
          "base_uri": "https://localhost:8080/",
          "height": 0
        },
        "id": "aPvvHE-WllxL",
        "outputId": "624481ae-fa23-4881-87d1-53766b0f3ba8"
      },
      "execution_count": 8,
      "outputs": [
        {
          "output_type": "stream",
          "name": "stdout",
          "text": [
            "['r', 'a', 'n', 'n', 'a', 'n']\n",
            "Yes, there is at least one match!\n"
          ]
        }
      ]
    },
    {
      "cell_type": "code",
      "source": [
        "import re\n",
        "txt = \"The rain in Spain\"\n",
        "#Check if the string has any characters between a and n:\n",
        "x = re.findall(\"[a-n]\", txt)\n",
        "print(x)\n",
        "if x:\n",
        "  print(\"Yes, there is at least one match!\")\n",
        "else:\n",
        "  print(\"No match\")"
      ],
      "metadata": {
        "colab": {
          "base_uri": "https://localhost:8080/",
          "height": 0
        },
        "id": "6sEgxB4XlygQ",
        "outputId": "a57c1ac8-cd2e-41b5-b7fa-ed4dd921c91c"
      },
      "execution_count": 9,
      "outputs": [
        {
          "output_type": "stream",
          "name": "stdout",
          "text": [
            "['h', 'e', 'a', 'i', 'n', 'i', 'n', 'a', 'i', 'n']\n",
            "Yes, there is at least one match!\n"
          ]
        }
      ]
    },
    {
      "cell_type": "code",
      "source": [
        "import re\n",
        "txt = \"8 times before 11:45 AM\"\n",
        "#Check if the string has any two-digit numbers, from 00 to 59:\n",
        "x = re.findall(\"[0-5][0-9]\", txt)\n",
        "print(x)\n",
        "if x:\n",
        "  print(\"Yes, there is at least one match!\")\n",
        "else:\n",
        "  print(\"No match\")"
      ],
      "metadata": {
        "colab": {
          "base_uri": "https://localhost:8080/",
          "height": 0
        },
        "id": "3-cJk2lDlszj",
        "outputId": "6665d406-1f42-4b4d-b1be-7947d80b770d"
      },
      "execution_count": 10,
      "outputs": [
        {
          "output_type": "stream",
          "name": "stdout",
          "text": [
            "['11', '45']\n",
            "Yes, there is at least one match!\n"
          ]
        }
      ]
    },
    {
      "cell_type": "code",
      "source": [
        "import re\n",
        "txt = \"8 times before 11:45 AM\"\n",
        "#Check if the string has any characters from a to z lower case, and A to Z upper case:\n",
        "x = re.findall(\"[a-zA-Z]\", txt)\n",
        "print(x)\n",
        "if x:\n",
        "  print(\"Yes, there is at least one match!\")\n",
        "else:\n",
        "  print(\"No match\")"
      ],
      "metadata": {
        "colab": {
          "base_uri": "https://localhost:8080/",
          "height": 0
        },
        "id": "VsSQA9i-l7NR",
        "outputId": "81fb22dc-2ec0-4689-d856-ac0389296611"
      },
      "execution_count": 11,
      "outputs": [
        {
          "output_type": "stream",
          "name": "stdout",
          "text": [
            "['t', 'i', 'm', 'e', 's', 'b', 'e', 'f', 'o', 'r', 'e', 'A', 'M']\n",
            "Yes, there is at least one match!\n"
          ]
        }
      ]
    },
    {
      "cell_type": "code",
      "source": [
        "import re\n",
        "txt = \"8 times before 11:45 AM\"\n",
        "#Check if the string has any + characters:\n",
        "x = re.findall(\"[+]\", txt)\n",
        "print(x)\n",
        "if x:\n",
        "  print(\"Yes, there is at least one match!\")\n",
        "else:\n",
        "  print(\"No match\")"
      ],
      "metadata": {
        "colab": {
          "base_uri": "https://localhost:8080/",
          "height": 0
        },
        "id": "ulKy7ZwXmBsA",
        "outputId": "033f3a7d-8971-44f6-b304-f8da82047042"
      },
      "execution_count": 12,
      "outputs": [
        {
          "output_type": "stream",
          "name": "stdout",
          "text": [
            "[]\n",
            "No match\n"
          ]
        }
      ]
    }
  ]
}