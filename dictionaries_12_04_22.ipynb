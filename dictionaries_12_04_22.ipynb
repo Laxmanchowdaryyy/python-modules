{
  "nbformat": 4,
  "nbformat_minor": 0,
  "metadata": {
    "colab": {
      "name": "dictionaries 12-04-22.ipynb",
      "provenance": [],
      "collapsed_sections": [],
      "authorship_tag": "ABX9TyOw10qX3A3BqdOZ7nCLHUSi",
      "include_colab_link": true
    },
    "kernelspec": {
      "name": "python3",
      "display_name": "Python 3"
    },
    "language_info": {
      "name": "python"
    }
  },
  "cells": [
    {
      "cell_type": "markdown",
      "metadata": {
        "id": "view-in-github",
        "colab_type": "text"
      },
      "source": [
        "<a href=\"https://colab.research.google.com/github/Laxmanchowdaryyy/python-modules/blob/Module-2/dictionaries_12_04_22.ipynb\" target=\"_parent\"><img src=\"https://colab.research.google.com/assets/colab-badge.svg\" alt=\"Open In Colab\"/></a>"
      ]
    },
    {
      "cell_type": "code",
      "execution_count": null,
      "metadata": {
        "id": "jkjl2z6LSzHN",
        "colab": {
          "base_uri": "https://localhost:8080/"
        },
        "outputId": "b269506f-e888-4743-eb53-64d3e1df3ed0"
      },
      "outputs": [
        {
          "output_type": "stream",
          "name": "stdout",
          "text": [
            "{'Name': 'Saketh', 'Roll no.': 79, 'Year': '1'}\n",
            "Saketh\n"
          ]
        }
      ],
      "source": [
        "#creating a dictionary\n",
        "student = {\n",
        "    \"Name\": \"Saketh\",\n",
        "    \"Roll no.\": 79,\n",
        "    \"Year\" : \"1\",\n",
        "}\n",
        "print(student)\n",
        "print(student[\"Name\"])"
      ]
    },
    {
      "cell_type": "code",
      "source": [
        "#duplicates not allowed \n",
        "#duplicate  values will overwrite existing values\n",
        "student = {\n",
        "    \"Name\": \"Saketh\",\n",
        "    \"Roll no.\": 79,\n",
        "    \"Year\" : 1,\n",
        "    \"Year\": 2,\n",
        "}\n",
        "print(student[\"Year\"])\n",
        "print(len(student))"
      ],
      "metadata": {
        "colab": {
          "base_uri": "https://localhost:8080/"
        },
        "id": "C90Fu_80ecjr",
        "outputId": "87b90d34-1d30-4297-fb46-adc8e2301f33"
      },
      "execution_count": null,
      "outputs": [
        {
          "output_type": "stream",
          "name": "stdout",
          "text": [
            "2\n",
            "3\n"
          ]
        }
      ]
    },
    {
      "cell_type": "code",
      "source": [
        "placement= {\n",
        "    \"name\":input(\"enter your name\\n\"),\n",
        "    \"age\":input('enter your age\\n'),\n",
        "    \"cgpa\": float(input('enter your cgpa\\n')),\n",
        "    \"phone no.\":int(input('enter your mobile number\\n')),\n",
        "    \"section\": 'A'\n",
        "}\n",
        "print(placement)\n",
        "print(placement[\"cgpa\"],\"is your cgpa\")\n",
        "\n"
      ],
      "metadata": {
        "colab": {
          "base_uri": "https://localhost:8080/"
        },
        "id": "4crJBKO_f08q",
        "outputId": "54b71ef7-f1ba-41a8-80a9-b6b0829f48a9"
      },
      "execution_count": null,
      "outputs": [
        {
          "output_type": "stream",
          "name": "stdout",
          "text": [
            "enter your name\n",
            "laxman\n",
            "enter your age\n",
            "18\n",
            "enter your cgpa\n",
            "9\n",
            "enter your mobile number\n",
            "9090\n",
            "{'name': 'laxman', 'age': '18', 'cgpa': 9.0, 'phone no.': 9090, 'section': 'A'}\n",
            "9.0 is your cgpa\n",
            "dict_keys(['name', 'age', 'cgpa', 'phone no.', 'section'])\n"
          ]
        }
      ]
    },
    {
      "cell_type": "code",
      "source": [
        "#keys() will return a list off all kweys \n",
        "student = {\n",
        "    \"Name\": \"Saketh\",\n",
        "    \"Roll no.\": 79,\n",
        "    \"Year\" : 1,\n",
        "    \"Year\": 2,\n",
        "}\n",
        "print(student.keys())\n"
      ],
      "metadata": {
        "colab": {
          "base_uri": "https://localhost:8080/"
        },
        "id": "NIDye3BZhSFa",
        "outputId": "4c193bac-2301-45a5-b166-efc19aa8152f"
      },
      "execution_count": null,
      "outputs": [
        {
          "output_type": "stream",
          "name": "stdout",
          "text": [
            "dict_keys(['Name', 'Roll no.', 'Year'])\n"
          ]
        }
      ]
    },
    {
      "cell_type": "code",
      "source": [
        "#add new item to dictionary and see the keys getting updated\n",
        "student = {\n",
        "    \"Name\": \"Saketh\",\n",
        "    \"Roll no.\": 79,\n",
        "    \"Year\" : 1,\n",
        "    \"Year\": 2,\n",
        "}\n",
        "print(student.keys())\n",
        "student[\"course\"]= \"Btech\"\n",
        "print(student.keys())\n"
      ],
      "metadata": {
        "colab": {
          "base_uri": "https://localhost:8080/"
        },
        "id": "vGTJwqZPjq46",
        "outputId": "45ba5ffc-1e80-4438-c390-436afb9674e6"
      },
      "execution_count": null,
      "outputs": [
        {
          "output_type": "stream",
          "name": "stdout",
          "text": [
            "dict_keys(['Name', 'Roll no.', 'Year'])\n",
            "dict_keys(['Name', 'Roll no.', 'Year', 'course'])\n",
            "<class 'dict'>\n"
          ]
        }
      ]
    },
    {
      "cell_type": "code",
      "source": [
        "#values() will return a list of all values in dic\n",
        "student = {\n",
        "    \"Name\": \"Saketh\",\n",
        "    \"Roll no.\": 79,\n",
        "    \"Year\":1\n",
        "}\n",
        "print(student.values())\n",
        "student[\"Year\"]= 2\n",
        "print(student.values())"
      ],
      "metadata": {
        "colab": {
          "base_uri": "https://localhost:8080/"
        },
        "id": "PD3iKN4AkEdZ",
        "outputId": "39ca3079-cea9-49a2-f7d1-14f944602d37"
      },
      "execution_count": null,
      "outputs": [
        {
          "output_type": "stream",
          "name": "stdout",
          "text": [
            "dict_values(['Saketh', 79, 1])\n",
            "dict_values(['Saketh', 79, 2])\n"
          ]
        }
      ]
    },
    {
      "cell_type": "code",
      "source": [
        "#items() will return each item in a dictionary\n",
        "student = {\n",
        "    \"Name\": \"Saketh\",\n",
        "    \"Roll no.\": 79,\n",
        "    \"Year\" : 1,\n",
        "}\n",
        "x=student.items()\n",
        "print(x)\n",
        "student[\"Year\"]= 2\n",
        "print(x)"
      ],
      "metadata": {
        "id": "QP6XtHWikjtZ",
        "colab": {
          "base_uri": "https://localhost:8080/"
        },
        "outputId": "a8bc3a58-01c3-455c-85e1-8403c8320f85"
      },
      "execution_count": null,
      "outputs": [
        {
          "output_type": "stream",
          "name": "stdout",
          "text": [
            "dict_items([('Name', 'Saketh'), ('Roll no.', 79), ('Year', 1)])\n",
            "dict_items([('Name', 'Saketh'), ('Roll no.', 79), ('Year', 2)])\n"
          ]
        }
      ]
    },
    {
      "cell_type": "code",
      "source": [
        "#check if a key is present\n",
        "student= {\n",
        "    \"name\": \"laxman\",\n",
        "    \"branch\": \"aiml\",\n",
        "    \"year\": 1,\n",
        "    \"roll no\":122\n",
        "}\n",
        "if \"name\" in student:\n",
        "  print(\"yes\")"
      ],
      "metadata": {
        "colab": {
          "base_uri": "https://localhost:8080/",
          "height": 130
        },
        "id": "u4l3kU4JERcu",
        "outputId": "13d22f47-3804-40fb-9e4c-09851282b9d6"
      },
      "execution_count": null,
      "outputs": [
        {
          "output_type": "error",
          "ename": "SyntaxError",
          "evalue": "ignored",
          "traceback": [
            "\u001b[0;36m  File \u001b[0;32m\"<ipython-input-9-69759a9195c0>\"\u001b[0;36m, line \u001b[0;32m10\u001b[0m\n\u001b[0;31m    else:\u001b[0m\n\u001b[0m       ^\u001b[0m\n\u001b[0;31mSyntaxError\u001b[0m\u001b[0;31m:\u001b[0m invalid syntax\n"
          ]
        }
      ]
    },
    {
      "cell_type": "code",
      "source": [
        "#the update() methid will update \n",
        "student= {\n",
        "    \"name\": \"laxman\",\n",
        "    \"branch\": \"aiml\",\n",
        "    \"year\": 1,\n",
        "    \"roll no\":122\n",
        "}\n",
        "student.update({\"year\": 2})\n",
        "print(student)"
      ],
      "metadata": {
        "colab": {
          "base_uri": "https://localhost:8080/"
        },
        "id": "zZoh88u4FO0e",
        "outputId": "2629de6a-7e07-4610-9ae3-56f5a7c11791"
      },
      "execution_count": null,
      "outputs": [
        {
          "output_type": "stream",
          "name": "stdout",
          "text": [
            "{'name': 'laxman', 'branch': 'aiml', 'year': 2, 'roll no': 122}\n"
          ]
        }
      ]
    },
    {
      "cell_type": "code",
      "source": [
        "#adding an item\n",
        "student= {\n",
        "    \"name\": \"laxman\",\n",
        "    \"branch\":\"aiml\",\n",
        "    \"year\": 1\n",
        "}\n",
        "student[\"roll no\"]=122\n",
        "print(student)"
      ],
      "metadata": {
        "colab": {
          "base_uri": "https://localhost:8080/"
        },
        "id": "UOXgFK-bE2st",
        "outputId": "c22c2094-509d-429e-f26a-041e658411c3"
      },
      "execution_count": null,
      "outputs": [
        {
          "output_type": "stream",
          "name": "stdout",
          "text": [
            "{'name': 'laxman', 'branch': 'aiml', 'year': 1, 'roll no': 122}\n"
          ]
        }
      ]
    },
    {
      "cell_type": "code",
      "source": [
        "#pop()\n",
        "student={\n",
        "    \"name\":\"laxman\",\n",
        "    \"branch\":\"aiml\",\n",
        "    \"year\": 1,\n",
        "    \"roll no\": 122\n",
        "}\n",
        "student.pop(\"year\")\n",
        "print(student)"
      ],
      "metadata": {
        "colab": {
          "base_uri": "https://localhost:8080/"
        },
        "id": "-OdZFhNjGdst",
        "outputId": "c2eabc76-4f98-4df8-f771-1d1643f9d30a"
      },
      "execution_count": null,
      "outputs": [
        {
          "output_type": "stream",
          "name": "stdout",
          "text": [
            "{'name': 'laxman', 'branch': 'aiml', 'roll no': 122}\n"
          ]
        }
      ]
    },
    {
      "cell_type": "code",
      "source": [
        "#popitem() removes last inserted item\n",
        "student={\n",
        "    \"name\":\"laxman\",\n",
        "    \"branch\":\"aiml\",\n",
        "    \"year\": 1,\n",
        "    \"roll no\": 122\n",
        "}\n",
        "student.popitem()\n",
        "print(student)"
      ],
      "metadata": {
        "colab": {
          "base_uri": "https://localhost:8080/"
        },
        "id": "IsNOJ7GUHGi-",
        "outputId": "f000d4ff-1810-4c57-c55b-a9da64ad70f3"
      },
      "execution_count": null,
      "outputs": [
        {
          "output_type": "stream",
          "name": "stdout",
          "text": [
            "{'name': 'laxman', 'branch': 'aiml', 'year': 1}\n"
          ]
        }
      ]
    },
    {
      "cell_type": "code",
      "source": [
        "#del\n",
        "student={\n",
        "    \"name\":\"laxman\",\n",
        "    \"branch\":\"aiml\",\n",
        "    \"year\": 1,\n",
        "    \"roll no\": 122\n",
        "}\n",
        "del student[\"branch\"]\n",
        "print(student)"
      ],
      "metadata": {
        "colab": {
          "base_uri": "https://localhost:8080/"
        },
        "id": "GVeljc4qHO8M",
        "outputId": "a5f0910c-ca75-40aa-f8cf-02bce1dd82f8"
      },
      "execution_count": null,
      "outputs": [
        {
          "output_type": "stream",
          "name": "stdout",
          "text": [
            "{'name': 'laxman', 'year': 1, 'roll no': 122}\n"
          ]
        }
      ]
    },
    {
      "cell_type": "code",
      "source": [
        "#clear()\n",
        "student={\n",
        "    \"name\":\"laxman\",\n",
        "    \"branch\":\"aiml\",\n",
        "    \"year\": 1,\n",
        "    \"roll no\": 122\n",
        "}\n",
        "student.clear()\n",
        "print(student)"
      ],
      "metadata": {
        "colab": {
          "base_uri": "https://localhost:8080/"
        },
        "id": "110u3gd8HkZ9",
        "outputId": "7dbe8365-637d-454a-b586-08eb971bd079"
      },
      "execution_count": null,
      "outputs": [
        {
          "output_type": "stream",
          "name": "stdout",
          "text": [
            "{}\n"
          ]
        }
      ]
    },
    {
      "cell_type": "code",
      "source": [
        "#loops\n",
        "student={\n",
        "    \"name\":\"laxman\",\n",
        "    \"branch\":\"aiml\",\n",
        "    \"year\": 1,\n",
        "    \"roll no\": 122\n",
        "}\n",
        "for x in student:\n",
        "  print(x)\n",
        "\n",
        "for x in student:\n",
        "  print(student[x])\n",
        "#use values( ) to return values of dictionary\n",
        "for y in student.values():\n",
        "  print(y,\"\\n\")\n",
        "#use keys() to return keys of a dictionary\n",
        "for z in student.keys():\n",
        "  print(z,\"\\t\")\n",
        "#use items() to return oth keys and values\n",
        "for x,y in student.items():\n",
        "  print(x,y)"
      ],
      "metadata": {
        "colab": {
          "base_uri": "https://localhost:8080/"
        },
        "id": "WcomdelZHsor",
        "outputId": "33e8653c-bbc0-45e4-f359-69c9e40b864f"
      },
      "execution_count": null,
      "outputs": [
        {
          "output_type": "stream",
          "name": "stdout",
          "text": [
            "name\n",
            "branch\n",
            "year\n",
            "roll no\n",
            "laxman\n",
            "aiml\n",
            "1\n",
            "122\n",
            "laxman \n",
            "\n",
            "aiml \n",
            "\n",
            "1 \n",
            "\n",
            "122 \n",
            "\n",
            "name \t\n",
            "branch \t\n",
            "year \t\n",
            "roll no \t\n",
            "name laxman\n",
            "branch aiml\n",
            "year 1\n",
            "roll no 122\n"
          ]
        }
      ]
    },
    {
      "cell_type": "code",
      "source": [
        "#we cannot copy by tying dict2=dict1, use copy() and dict()\n",
        "student={\n",
        "    \"name\":\"laxman\",\n",
        "    \"branch\":\"aiml\",\n",
        "    \"year\": 1,\n",
        "    \"roll no\": 122\n",
        "}\n",
        "stu=student.copy()\n",
        "print(stu)\n",
        "\n",
        "#dict()\n",
        "student={\n",
        "    \"name\":\"laxman\",\n",
        "    \"branch\":\"aiml\",\n",
        "    \"year\": 1,\n",
        "    \"roll no\": 122\n",
        "}\n",
        "stu=dict(student)\n",
        "print(stu)"
      ],
      "metadata": {
        "colab": {
          "base_uri": "https://localhost:8080/"
        },
        "id": "cVaL_dvuI1Y2",
        "outputId": "5e8921cd-02a9-44fc-b8c6-ad46bc7ada6d"
      },
      "execution_count": null,
      "outputs": [
        {
          "output_type": "stream",
          "name": "stdout",
          "text": [
            "{'name': 'laxman', 'branch': 'aiml', 'year': 1, 'roll no': 122}\n",
            "{'name': 'laxman', 'branch': 'aiml', 'year': 1, 'roll no': 122}\n"
          ]
        }
      ]
    },
    {
      "cell_type": "code",
      "source": [
        "#nested dictionaries\n",
        "#\n",
        "section_A={\n",
        "    \"student 1\": {\n",
        "        \"name\": \"laxman\",\n",
        "        \"roll no\": 122\n",
        "    },\n",
        "    \"student 2\":{\n",
        "        \"name\": \"saketh\",\n",
        "        \"roll no\": 79\n",
        "    },\n",
        "    \"student 3\":{\n",
        "        \"name\": \"sai\",\n",
        "        \"roll no\": 107\n",
        "    }\n",
        "}\n",
        "print(section_A)\n",
        "\n"
      ],
      "metadata": {
        "colab": {
          "base_uri": "https://localhost:8080/"
        },
        "id": "qKciKo5YIBe7",
        "outputId": "1b98802f-a99f-4977-b01e-07fcfa4400e3"
      },
      "execution_count": null,
      "outputs": [
        {
          "output_type": "stream",
          "name": "stdout",
          "text": [
            "{'student 1': {'name': 'laxman', 'roll no': 122}, 'student 2': {'name': 'saketh', 'roll no': 79}, 'student 3': {'name': 'sai', 'roll no': 107}}\n"
          ]
        }
      ]
    },
    {
      "cell_type": "code",
      "source": [
        ""
      ],
      "metadata": {
        "id": "5ZzzYZFhLVZr"
      },
      "execution_count": null,
      "outputs": []
    }
  ]
}