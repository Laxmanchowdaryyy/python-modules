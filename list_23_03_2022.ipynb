{
  "nbformat": 4,
  "nbformat_minor": 0,
  "metadata": {
    "colab": {
      "name": "list 23-03-2022.ipynb",
      "provenance": [],
      "collapsed_sections": [],
      "authorship_tag": "ABX9TyP+9Bw9R5ru9u0jUijZhJrr",
      "include_colab_link": true
    },
    "kernelspec": {
      "name": "python3",
      "display_name": "Python 3"
    },
    "language_info": {
      "name": "python"
    }
  },
  "cells": [
    {
      "cell_type": "markdown",
      "metadata": {
        "id": "view-in-github",
        "colab_type": "text"
      },
      "source": [
        "<a href=\"https://colab.research.google.com/github/Laxmanchowdaryyy/python-modules/blob/Module-2/list_23_03_2022.ipynb\" target=\"_parent\"><img src=\"https://colab.research.google.com/assets/colab-badge.svg\" alt=\"Open In Colab\"/></a>"
      ]
    },
    {
      "cell_type": "code",
      "execution_count": null,
      "metadata": {
        "colab": {
          "base_uri": "https://localhost:8080/"
        },
        "id": "2jXGZPWX4bih",
        "outputId": "4a838243-c64c-49ae-d853-3a17b6984b02"
      },
      "outputs": [
        {
          "output_type": "stream",
          "name": "stdout",
          "text": [
            "grapes\n",
            "kiwi\n",
            "grapes\n",
            "orange\n",
            "['mango', 'apple', 'orange']\n"
          ]
        }
      ],
      "source": [
        "#list\n",
        "fruit=[\"mango\",\"apple\",\"orange\",\"kiwi\",\"grapes\"]\n",
        "print (fruit[4])\n",
        "print (fruit[3])\n",
        "print (fruit[-1])\n",
        "print(fruit[-3])\n",
        "print(fruit[ :3])\n"
      ]
    },
    {
      "cell_type": "code",
      "source": [
        "# Correcting mistake values in a list\n",
        "even_numbers=[1,4,6,8]\n",
        "even_numbers[0]=2\n",
        "print(even_numbers)\n",
        "even_numbers[0:4]=[1,2,3,4]\n",
        "print(even_numbers)\n",
        "even_numbers.reverse()\n",
        "print([even_numbers])"
      ],
      "metadata": {
        "colab": {
          "base_uri": "https://localhost:8080/"
        },
        "id": "XksbsDeq50w7",
        "outputId": "3d4b77b0-1c19-4208-a859-74e6b0c4fcd6"
      },
      "execution_count": null,
      "outputs": [
        {
          "output_type": "stream",
          "name": "stdout",
          "text": [
            "[2, 4, 6, 8]\n",
            "[1, 2, 3, 4]\n",
            "[[4, 3, 2, 1]]\n"
          ]
        }
      ]
    },
    {
      "cell_type": "code",
      "source": [
        "# Appending and Extending lists in Python\n",
        "odd=[1, 3, 5]\n",
        "odd.append(7)\n",
        "print(odd)\n",
        "odd.extend([9, 11, 13])\n",
        "print(odd)"
      ],
      "metadata": {
        "colab": {
          "base_uri": "https://localhost:8080/"
        },
        "id": "wTF5coDR86ss",
        "outputId": "def416ea-bbc3-4f11-ac11-6e727807e72a"
      },
      "execution_count": null,
      "outputs": [
        {
          "output_type": "stream",
          "name": "stdout",
          "text": [
            "[1, 3, 5, 7]\n",
            "[1, 3, 5, 7, 9, 11, 13]\n"
          ]
        }
      ]
    },
    {
      "cell_type": "code",
      "source": [
        "# Concatenating(combining) and repeating lists\n",
        "odd = [1, 3, 5]\n",
        "print(odd + [9, 7, 5])\n",
        "print([odd] * 3)\n",
        "print(\"[mn]\"*4)"
      ],
      "metadata": {
        "colab": {
          "base_uri": "https://localhost:8080/"
        },
        "id": "r2LKUJ7Y9lya",
        "outputId": "89439030-f6cd-4b60-fcc6-cc9374d2f540"
      },
      "execution_count": null,
      "outputs": [
        {
          "output_type": "stream",
          "name": "stdout",
          "text": [
            "[1, 3, 5, 9, 7, 5]\n",
            "[[1, 3, 5], [1, 3, 5], [1, 3, 5]]\n",
            "[mn][mn][mn][mn]\n"
          ]
        }
      ]
    },
    {
      "cell_type": "code",
      "source": [
        "#list insert() method\n",
        "numbers=[1,2,3,7,8,9]\n",
        "numbers.insert(3,5)\n",
        "print([numbers])\n",
        "numbers[3:4]=[4,5,6]\n",
        "print([numbers])\n",
        "numbers[3:7]=[4,5,6]\n",
        "print([numbers])"
      ],
      "metadata": {
        "colab": {
          "base_uri": "https://localhost:8080/"
        },
        "id": "guqYgFNL-H1w",
        "outputId": "8047863b-28ae-4b38-944f-5ee60162d4a3"
      },
      "execution_count": null,
      "outputs": [
        {
          "output_type": "stream",
          "name": "stdout",
          "text": [
            "[[1, 2, 3, 5, 7, 8, 9]]\n",
            "[[1, 2, 3, 4, 5, 6, 7, 8, 9]]\n",
            "[[1, 2, 3, 4, 5, 6, 8, 9]]\n"
          ]
        }
      ]
    },
    {
      "cell_type": "code",
      "source": [
        "# Deleting list items\n",
        "my_list = ['p', 'r', 'o', 'b', 'l', 'e', 'm']\n",
        "# delete one item\n",
        "del my_list[2]\n",
        "print(my_list)\n",
        "# delete multiple items\n",
        "del my_list[1:5]\n",
        "print(my_list)\n",
        "# delete the entire list\n",
        "del my_list\n",
        "# Error: List not defined\n",
        "print(my_list)\n"
      ],
      "metadata": {
        "colab": {
          "base_uri": "https://localhost:8080/",
          "height": 235
        },
        "id": "Q1LVDMck_40K",
        "outputId": "a84ad609-1679-485a-aa1e-7bc6955acba0"
      },
      "execution_count": null,
      "outputs": [
        {
          "output_type": "stream",
          "name": "stdout",
          "text": [
            "['p', 'r', 'b', 'l', 'e', 'm']\n",
            "['p', 'm']\n"
          ]
        },
        {
          "output_type": "error",
          "ename": "NameError",
          "evalue": "ignored",
          "traceback": [
            "\u001b[0;31m---------------------------------------------------------------------------\u001b[0m",
            "\u001b[0;31mNameError\u001b[0m                                 Traceback (most recent call last)",
            "\u001b[0;32m<ipython-input-53-fa7e08dc48e4>\u001b[0m in \u001b[0;36m<module>\u001b[0;34m()\u001b[0m\n\u001b[1;32m     10\u001b[0m \u001b[0;32mdel\u001b[0m \u001b[0mmy_list\u001b[0m\u001b[0;34m\u001b[0m\u001b[0;34m\u001b[0m\u001b[0m\n\u001b[1;32m     11\u001b[0m \u001b[0;31m# Error: List not defined\u001b[0m\u001b[0;34m\u001b[0m\u001b[0;34m\u001b[0m\u001b[0;34m\u001b[0m\u001b[0m\n\u001b[0;32m---> 12\u001b[0;31m \u001b[0mprint\u001b[0m\u001b[0;34m(\u001b[0m\u001b[0mmy_list\u001b[0m\u001b[0;34m)\u001b[0m\u001b[0;34m\u001b[0m\u001b[0;34m\u001b[0m\u001b[0m\n\u001b[0m",
            "\u001b[0;31mNameError\u001b[0m: name 'my_list' is not defined"
          ]
        }
      ]
    },
    {
      "cell_type": "code",
      "source": [
        "my_list = ['p','r','o','b','l','e','m']\n",
        "my_list.remove('p')\n",
        "print(my_list)\n",
        "print(my_list.pop(1))\n",
        "print(my_list)\n",
        "print(my_list.pop())\n",
        "print(my_list)\n",
        "my_list.clear()\n",
        "print(my_list)\n"
      ],
      "metadata": {
        "colab": {
          "base_uri": "https://localhost:8080/"
        },
        "id": "YEqIGaGGD0LR",
        "outputId": "f1b4f6b6-5f5f-4f6f-e6f0-d9dd2d90e04a"
      },
      "execution_count": null,
      "outputs": [
        {
          "output_type": "stream",
          "name": "stdout",
          "text": [
            "['r', 'o', 'b', 'l', 'e', 'm']\n",
            "o\n",
            "['r', 'b', 'l', 'e', 'm']\n",
            "m\n",
            "['r', 'b', 'l', 'e']\n",
            "[]\n"
          ]
        }
      ]
    },
    {
      "cell_type": "code",
      "source": [
        "# programming languages list\n",
        "languages = ['Python', 'Java', 'C++', 'Ruby', 'C']\n",
        "\n",
        "# remove and return the last item\n",
        "print('When index is not passed:') \n",
        "print('Return Value:', languages.pop())\n",
        "\n",
        "print('Updated List:', languages)\n",
        "\n",
        "# remove and return the last item\n",
        "print('\\nWhen -1 is passed:') \n",
        "print('Return Value:', languages.pop(-1))\n",
        "\n",
        "print('Updated List:', languages)\n",
        "\n",
        "# remove and return the third last item\n",
        "print('\\nWhen -3 is passed:') \n",
        "print('Return Value:', languages.pop(-3))\n",
        "\n",
        "print('Updated List:', languages)"
      ],
      "metadata": {
        "colab": {
          "base_uri": "https://localhost:8080/"
        },
        "id": "8GR7gr0sJBZb",
        "outputId": "b11cb676-7468-413e-ae89-092e046fbf0c"
      },
      "execution_count": null,
      "outputs": [
        {
          "output_type": "stream",
          "name": "stdout",
          "text": [
            "When index is not passed:\n",
            "Return Value: C\n",
            "Updated List: ['Python', 'Java', 'C++', 'Ruby']\n",
            "\n",
            "When -1 is passed:\n",
            "Return Value: Ruby\n",
            "Updated List: ['Python', 'Java', 'C++']\n",
            "\n",
            "When -3 is passed:\n",
            "Return Value: Python\n",
            "Updated List: ['Java', 'C++']\n"
          ]
        }
      ]
    },
    {
      "cell_type": "code",
      "source": [
        "#length and sort in asc order\n",
        "num=[1,6,4,3,8,6,]\n",
        "print(len(num))\n",
        "num.sort()\n",
        "print([num])\n",
        "num.reverse()\n",
        "print(num)"
      ],
      "metadata": {
        "colab": {
          "base_uri": "https://localhost:8080/"
        },
        "id": "IH2YOASrL0Hy",
        "outputId": "008d9ed5-e2b0-479a-cd1d-d9d14b8f193b"
      },
      "execution_count": null,
      "outputs": [
        {
          "output_type": "stream",
          "name": "stdout",
          "text": [
            "6\n",
            "[[1, 3, 4, 6, 6, 8]]\n",
            "[8, 6, 6, 4, 3, 1]\n"
          ]
        }
      ]
    },
    {
      "cell_type": "code",
      "source": [
        "#length\n",
        "numbers=[1,2,5,3,2356,654,3]\n",
        "print(len(numbers))"
      ],
      "metadata": {
        "colab": {
          "base_uri": "https://localhost:8080/"
        },
        "id": "0ozlpbnSj8qx",
        "outputId": "94b6f6cb-0d45-46b6-d449-702205d352c9"
      },
      "execution_count": null,
      "outputs": [
        {
          "output_type": "stream",
          "name": "stdout",
          "text": [
            "7\n"
          ]
        }
      ]
    },
    {
      "cell_type": "code",
      "source": [
        "#type\n",
        "numbers=[1,2,3,1,3,2]\n",
        "print(type(numbers))\n",
        "num=[1]\n",
        "print(type(num))\n",
        "a='p'\n",
        "print(type(a))"
      ],
      "metadata": {
        "colab": {
          "base_uri": "https://localhost:8080/"
        },
        "id": "pQUCtVCIkcae",
        "outputId": "5118330d-f7ce-4081-f4ce-c842e9bee65f"
      },
      "execution_count": null,
      "outputs": [
        {
          "output_type": "stream",
          "name": "stdout",
          "text": [
            "<class 'list'>\n",
            "<class 'list'>\n",
            "<class 'str'>\n"
          ]
        }
      ]
    }
  ]
}