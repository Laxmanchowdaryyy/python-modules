{
  "nbformat": 4,
  "nbformat_minor": 0,
  "metadata": {
    "colab": {
      "name": "questions 26,27-04-22",
      "provenance": [],
      "collapsed_sections": [],
      "authorship_tag": "ABX9TyP+OUPK7ExlhTfMjT1lk4s/",
      "include_colab_link": true
    },
    "kernelspec": {
      "name": "python3",
      "display_name": "Python 3"
    },
    "language_info": {
      "name": "python"
    }
  },
  "cells": [
    {
      "cell_type": "markdown",
      "metadata": {
        "id": "view-in-github",
        "colab_type": "text"
      },
      "source": [
        "<a href=\"https://colab.research.google.com/github/Laxmanchowdaryyy/python-modules/blob/Module-2/questions_26%2C27_04_22.ipynb\" target=\"_parent\"><img src=\"https://colab.research.google.com/assets/colab-badge.svg\" alt=\"Open In Colab\"/></a>"
      ]
    },
    {
      "cell_type": "code",
      "execution_count": null,
      "metadata": {
        "colab": {
          "base_uri": "https://localhost:8080/"
        },
        "id": "1vP62QfJdi_S",
        "outputId": "7064133c-3059-40a5-f3bc-a826b0250bcc"
      },
      "outputs": [
        {
          "output_type": "stream",
          "name": "stdout",
          "text": [
            "29\n",
            "31\n",
            "37\n",
            "41\n",
            "43\n",
            "47\n"
          ]
        }
      ],
      "source": [
        "#*1.write a program to print prime number in a given range by using function (25-50).\n",
        "def prime_in_range(a,b):\n",
        "  for i in range(a,b+1):\n",
        "   if i > 1:\n",
        "       for j in range(2, i):\n",
        "           if (i % j) == 0:\n",
        "               break\n",
        "       else:\n",
        "           print(i)\n",
        "     \n",
        "\n",
        "\n",
        "a=int(input(\"enter first number\"))\n",
        "b=int(input(\"enter second number\"))\n",
        "prime_in_range(a,b)"
      ]
    },
    {
      "cell_type": "code",
      "source": [
        "#2.write a program  to read any month in integer and display days for that perticular month.\n",
        "def month(x):\n",
        "  if x==1 or x==3 or x==5 or x==7 or x==9 or x==11:\n",
        "    print(\"31 days\")\n",
        "  elif x==2:\n",
        "    print(\"28 or 29 days\")\n",
        "  else:\n",
        "    print(\"30 days\")\n",
        "\n",
        "x=int(input(\"enter the month from 1-12\"))\n",
        "month(x)\n"
      ],
      "metadata": {
        "colab": {
          "base_uri": "https://localhost:8080/"
        },
        "id": "zPl1L0cnjDE8",
        "outputId": "7d49029d-fabf-4ed0-c4e8-4aa0474ae859"
      },
      "execution_count": null,
      "outputs": [
        {
          "output_type": "stream",
          "name": "stdout",
          "text": [
            "enter the month from 1-122\n",
            "28 or 29 days\n"
          ]
        }
      ]
    },
    {
      "cell_type": "code",
      "source": [
        "#3.write a python program to print even length words in a string.\n",
        "#sample: input \"HI HOW ARE YOU\" \"This is a python class\"\n",
        "         # output Hi  this/n is python\n",
        "def even_length_words(x):\n",
        "  x=x.split(' ')\n",
        "  for i in x:\n",
        "    if len(i)%2==0:\n",
        "      print(i)\n",
        "\n",
        "x=str(input(\"enter any sentence\"))\n",
        "even_length_words(x)"
      ],
      "metadata": {
        "colab": {
          "base_uri": "https://localhost:8080/"
        },
        "id": "hA1Tt1xPlRMl",
        "outputId": "4f3c1231-64cf-46c9-d549-99cab69652c4"
      },
      "execution_count": null,
      "outputs": [
        {
          "output_type": "stream",
          "name": "stdout",
          "text": [
            "enter any sentenceTHIS IS PYTHON CLASS\n",
            "THIS\n",
            "IS\n",
            "PYTHON\n"
          ]
        }
      ]
    },
    {
      "cell_type": "code",
      "source": [
        "#4.write a python program to capitilise the first letter and last letter of each word\n",
        "            #input: hello world\n",
        "           # output: HellO WorlD\n",
        "a=str(input())\n",
        "b=a.split(' ')\n",
        "z=\"\"\n",
        "for i in b:\n",
        "  x=i.capitalize()\n",
        "  y=i[-1].capitalize()\n",
        "  z=x[0:-1]+y\n",
        "  print(z,end=\" \")"
      ],
      "metadata": {
        "colab": {
          "base_uri": "https://localhost:8080/"
        },
        "id": "C7ufaKsSlWAC",
        "outputId": "31262ea2-25b3-4aa8-caf0-7ab6466202c0"
      },
      "execution_count": null,
      "outputs": [
        {
          "output_type": "stream",
          "name": "stdout",
          "text": [
            "hello world\n",
            "HellO WorlD "
          ]
        }
      ]
    },
    {
      "cell_type": "code",
      "source": [
        "#5.write a program to read a string from user, display first character of each word with capital letter.\n",
        "           # input: hi welcome to python class\n",
        "           # output: Hi Welcome To Python Class\n",
        "def first_word_cap(x):\n",
        "  x=x.title() #we can also use capitalize() and using for loop\n",
        "  print(x)\n",
        "\n",
        "x=str(input(\"enter any sentence\"))\n",
        "first_word_cap(x)"
      ],
      "metadata": {
        "colab": {
          "base_uri": "https://localhost:8080/"
        },
        "id": "RTSgNypwlfv6",
        "outputId": "d7483044-a6d0-47e0-a581-c8783198060a"
      },
      "execution_count": null,
      "outputs": [
        {
          "output_type": "stream",
          "name": "stdout",
          "text": [
            "enter any sentencehi welcome to python class\n",
            "Hi Welcome To Python Class\n"
          ]
        }
      ]
    },
    {
      "cell_type": "code",
      "source": [
        "#6.write a python program to convert a list of multiple intergers into single integer.\n",
        "           #input: (11,33,50)\n",
        "         #  output: 113350\n",
        "def multiple_to_single(list1):\n",
        "  for i in list1:\n",
        "    print(i,end=\"\")\n",
        "\n",
        "list1=[]\n",
        "n = int(input(\"Enter numer of elements elements\"))\n",
        "for i in range(0, n):\n",
        "    x=int(input(\"\"))\n",
        "    list1.append(x)\n",
        "multiple_to_single(list1)"
      ],
      "metadata": {
        "colab": {
          "base_uri": "https://localhost:8080/"
        },
        "id": "xGCbGLkjljsL",
        "outputId": "c251de87-efd1-4b06-bc1f-dc89dcd3a694"
      },
      "execution_count": null,
      "outputs": [
        {
          "output_type": "stream",
          "name": "stdout",
          "text": [
            "Enter numer of elements elements3\n",
            "11\n",
            "55\n",
            "33\n",
            "115533"
          ]
        }
      ]
    },
    {
      "cell_type": "code",
      "source": [
        "#7.write a python program to find the power of number with reccursion and without reccursion\n",
        "   #input: n=2,p=3\n",
        "n=int(input(\"enter a number\"))\n",
        "p=int(input(\"enter the power\"))\n",
        "if (p==1):\n",
        "  print(n) \n",
        "else:\n",
        "  print(n*pow(n,p-1))\n",
        "\n",
        "\n",
        "\n"
      ],
      "metadata": {
        "id": "YotVerEOrUW5",
        "colab": {
          "base_uri": "https://localhost:8080/"
        },
        "outputId": "17d120b0-f1e4-4350-889c-7a31ff995fc5"
      },
      "execution_count": null,
      "outputs": [
        {
          "output_type": "stream",
          "name": "stdout",
          "text": [
            "enter a number3\n",
            "enter the power1\n",
            "3\n"
          ]
        }
      ]
    },
    {
      "cell_type": "code",
      "source": [
        "#8. write a program to sort tuples by total digits\n",
        "   #input: list=[(3,4,6,723),(1,2),(1,3,4),(2,3,4),(3,4)]\n",
        "def total_tuple_digits(s):\n",
        "   return sum([len(str(i)) for i in s])\n",
        "\n",
        "list1=[(3,4,6,723),(1,2),(1,3,4),(2,3,4),(3,4)]\n",
        "\n",
        "print(\"The tuple is :\")\n",
        "print(list1)\n",
        "\n",
        "list1.sort(key= total_tuple_digits)\n",
        "\n",
        "print(\"The result is :\")\n",
        "print(list1)"
      ],
      "metadata": {
        "id": "7HyVYmK8KBwg",
        "colab": {
          "base_uri": "https://localhost:8080/"
        },
        "outputId": "6c15c888-00ff-4006-e8fb-3f4933d4e2d2"
      },
      "execution_count": null,
      "outputs": [
        {
          "output_type": "stream",
          "name": "stdout",
          "text": [
            "The tuple is :\n",
            "[(3, 4, 6, 723), (1, 2), (1, 3, 4), (2, 3, 4), (3, 4)]\n",
            "The result is :\n",
            "[(1, 2), (3, 4), (1, 3, 4), (2, 3, 4), (3, 4, 6, 723)]\n"
          ]
        }
      ]
    },
    {
      "cell_type": "code",
      "source": [
        "#9.take 5 subjects marks from user and display the grade of a student\n",
        "#cond if avg is 90-100 O grade\n",
        "# 80-89 A+\n",
        "# 70-79 A\n",
        "#60-69 B+\n",
        "#.... >40 F\n",
        "s1=int(input(\"enter 1st subject marks\"))\n",
        "s2=int(input(\"enter 2nd subject marks\"))\n",
        "s3=int(input(\"enter 3rd subject marks\"))\n",
        "s4=int(input(\"enter 4th subject marks\"))\n",
        "s5=int(input(\"enter 5th subject marks\"))\n",
        "avg=(s1+s2+s3+s4+s5)/5\n",
        "if avg>=90:\n",
        "  print(\"you have scored 'O' grade\")\n",
        "elif avg>=80:\n",
        "  print(\"you have scored 'A+' grade\")\n",
        "elif avg>=70:\n",
        "  print(\"you have scored 'A' grade\")\n",
        "elif avg>=60:\n",
        "  print(\"you have scored 'B+' grade\")\n",
        "elif avg>=50:\n",
        "  print(\"you have scored 'B' grade\")\n",
        "elif avg>=40:\n",
        "  print(\"you have scored 'C' grade\")\n",
        "else:\n",
        "  print(\"FAIL\") "
      ],
      "metadata": {
        "colab": {
          "base_uri": "https://localhost:8080/"
        },
        "id": "Lz61l0e9KsXZ",
        "outputId": "6645579a-4fd4-4178-c00a-d8b8f88f35f1"
      },
      "execution_count": null,
      "outputs": [
        {
          "output_type": "stream",
          "name": "stdout",
          "text": [
            "enter 1st subject marks90\n",
            "enter 2nd subject marks80\n",
            "enter 3rd subject marks70\n",
            "enter 4th subject marks70\n",
            "enter 5th subject marks70\n",
            "you have scored 'A' grade\n"
          ]
        }
      ]
    },
    {
      "cell_type": "code",
      "source": [
        "#10. write a python program that prints 1 if all the three given numbers are in ascending order if not print 0\n",
        "a=int(input(\"\"))\n",
        "b=int(input())\n",
        "c=int(input())\n",
        "if (a<b) and (a<c) and (b<c):\n",
        "  print(\"1\")\n",
        "else:\n",
        "  print(\"0\") "
      ],
      "metadata": {
        "colab": {
          "base_uri": "https://localhost:8080/"
        },
        "id": "afBZzSUOLPUA",
        "outputId": "46893e21-bfac-4ae1-aec6-b87203a87e8f"
      },
      "execution_count": null,
      "outputs": [
        {
          "output_type": "stream",
          "name": "stdout",
          "text": [
            "9\n",
            "8\n",
            "7\n",
            "0\n"
          ]
        }
      ]
    },
    {
      "cell_type": "code",
      "source": [
        "#11.check the given number is perfect or not\n",
        "def perfect_number(n):\n",
        "  sum=0\n",
        "  for x in range (1,n):\n",
        "    if n % x==0:\n",
        "      sum=sum+x\n",
        "  if sum==n:\n",
        "     print(\"given number is a perfect number\")\n",
        "  else:\n",
        "    print(\"not a perfect number\")\n",
        "\n",
        "n=int(input(\"enter any number\"))\n",
        "perfect_number(n)"
      ],
      "metadata": {
        "colab": {
          "base_uri": "https://localhost:8080/"
        },
        "id": "3rVv6EQpLlqH",
        "outputId": "2d42b559-72f2-46f8-b5dd-43a980a70e41"
      },
      "execution_count": null,
      "outputs": [
        {
          "output_type": "stream",
          "name": "stdout",
          "text": [
            "enter anu number5\n",
            "not a palindrome\n"
          ]
        }
      ]
    },
    {
      "cell_type": "code",
      "source": [
        "#12.check given string is palindrome or not\n",
        "#input: malayalam\n",
        "def palindrome(x):\n",
        "  print(x[::-1])\n",
        "  if(x==x[::-1]):\n",
        "    print(\"palindrome\")\n",
        "  else:\n",
        "    print(\"not a palindrome\")\n",
        "\n",
        "x=str(input(\"enter a word\"))\n",
        "palindrome(x)\n"
      ],
      "metadata": {
        "colab": {
          "base_uri": "https://localhost:8080/"
        },
        "id": "8aEUj2zyL8F2",
        "outputId": "23aa3a12-0401-4bf8-8ee7-9b92d191a0f9"
      },
      "execution_count": null,
      "outputs": [
        {
          "output_type": "stream",
          "name": "stdout",
          "text": [
            "enter a wordmalayalam\n",
            "malayalam\n",
            "palindrome\n"
          ]
        }
      ]
    },
    {
      "cell_type": "code",
      "source": [
        "#13.find the GCD of 2 numbers with and without reccursion\n",
        "#input : 5,3 out:1\n",
        "def GCD(x,y):\n",
        "    if(y==0):\n",
        "        return x\n",
        "    else:\n",
        "        return GCD(y,x%y)\n",
        "a=int(input(\"Enter the first number :\"))\n",
        "b= int(input(\"Enter the second number :\"))\n",
        "print(\"The GCD of two numbers is:\", GCD(a,b))"
      ],
      "metadata": {
        "id": "SPV32ACcMRt_",
        "colab": {
          "base_uri": "https://localhost:8080/"
        },
        "outputId": "e7417239-d8d1-4590-a2bb-7002e30b61b3"
      },
      "execution_count": null,
      "outputs": [
        {
          "output_type": "stream",
          "name": "stdout",
          "text": [
            "Enter the first number :5\n",
            "Enter the second number :3\n",
            "The GCD of two numbers is: 1\n"
          ]
        }
      ]
    },
    {
      "cell_type": "code",
      "source": [
        "#14.print sum of even numbers in a given number\n",
        "x=int(input(\"enter any number\"))\n",
        "for i in range(i,x+1):\n",
        "  sum=0\n",
        "  if i%2==0:\n",
        "    sum=sum+i\n",
        "print(sum)"
      ],
      "metadata": {
        "colab": {
          "base_uri": "https://localhost:8080/"
        },
        "id": "7dWwIIb0Mr1v",
        "outputId": "2cb8f7be-f74c-4fa5-9c10-8d6b6b22dc2a"
      },
      "execution_count": null,
      "outputs": [
        {
          "output_type": "stream",
          "name": "stdout",
          "text": [
            "enter any number123456\n",
            "123456\n"
          ]
        }
      ]
    },
    {
      "cell_type": "code",
      "source": [
        "#15. calculate the product of digits of a number\n",
        "num=int(input(\"enter a number\"))\n",
        "result=1\n",
        "while(num!=0):\n",
        "  result=result*(num%10)\n",
        "  num=num//10\n",
        "print(result)"
      ],
      "metadata": {
        "id": "pbIlxzd0Nb0v",
        "colab": {
          "base_uri": "https://localhost:8080/"
        },
        "outputId": "2f6e6ff1-c060-4a4f-e1d6-ff8e9a47b196"
      },
      "execution_count": null,
      "outputs": [
        {
          "output_type": "stream",
          "name": "stdout",
          "text": [
            "enter a number123\n",
            "6\n"
          ]
        }
      ]
    },
    {
      "cell_type": "code",
      "source": [
        "#16.program to calculate the sum of square of a numer given by user \n",
        "def sum_square(n):\n",
        "  sum=0\n",
        "  for i in range (1,n+1):\n",
        "    sum=sum+(i*i)\n",
        "  print(sum)\n",
        "\n",
        "n=int(input(\"enter a number\"))\n",
        "sum_square(n)"
      ],
      "metadata": {
        "id": "2UIGVupQNO74",
        "colab": {
          "base_uri": "https://localhost:8080/"
        },
        "outputId": "a1eda2d9-9a7b-48eb-bb64-5f2ffbb69d2d"
      },
      "execution_count": null,
      "outputs": [
        {
          "output_type": "stream",
          "name": "stdout",
          "text": [
            "enter a number3\n",
            "14\n"
          ]
        }
      ]
    },
    {
      "cell_type": "code",
      "source": [
        "#17.given a string 's' s='abcdefcba' how many times the Ith capital \n",
        "#print count front back matches \n",
        "def ith_capital(x):\n",
        "  count=0\n",
        "  while(len(x)>1):\n",
        "    if x[0]==x[-1]:\n",
        "      count=count+1\n",
        "      x=x[1:-1]\n",
        "    else:\n",
        "      x=x[1:-1]\n",
        "  print(count)\n",
        "  \n",
        "\n",
        "x=str(input(\"enter string\"))\n",
        "ith_capital(x)"
      ],
      "metadata": {
        "id": "gnEqmZStNdvl",
        "colab": {
          "base_uri": "https://localhost:8080/"
        },
        "outputId": "24486c5c-960d-40af-a1b6-6a72849643c6"
      },
      "execution_count": null,
      "outputs": [
        {
          "output_type": "stream",
          "name": "stdout",
          "text": [
            "enter stringabcddcba\n",
            "4\n"
          ]
        }
      ]
    },
    {
      "cell_type": "code",
      "source": [
        "#18.given an integer n, return a list containg values 1 2 2 3 3 3 4 4 4 4... and finally n \n",
        "n=int(input(\"enter nth number\"))\n",
        "a=[]\n",
        "for i in range(1,n+1):\n",
        "  for j in range (0,i):\n",
        "    a.append(i)\n",
        "print(a)"
      ],
      "metadata": {
        "id": "kR2BHZRfOQh0",
        "colab": {
          "base_uri": "https://localhost:8080/"
        },
        "outputId": "c5d760b6-6991-41bd-a5be-cfaaa4eb8166"
      },
      "execution_count": null,
      "outputs": [
        {
          "output_type": "stream",
          "name": "stdout",
          "text": [
            "enter nth number5\n",
            "[1, 2, 2, 3, 3, 3, 4, 4, 4, 4, 5, 5, 5, 5, 5]\n"
          ]
        }
      ]
    },
    {
      "cell_type": "code",
      "source": [
        "#19. print number of vowels and consonents in the given string\n",
        " #input: \"GITAM UNIVERSITY\" \n",
        "def count_VandC(x):\n",
        "  vowels=0\n",
        "  consonents=0\n",
        "  for i in x:\n",
        "    if(i == 'a'or i == 'e'or i == 'i'or i == 'o'or i == 'u' or i == 'A'or i == 'E'or i == 'I'or i == 'O'or i == 'U' ):\n",
        "      vowels=vowels+1\n",
        "    else:\n",
        "      consonents=consonents+1\n",
        "  print(\"vowels\",vowels)\n",
        "  print(\"consonents\",consonents)\n",
        "\n",
        "x=str(input(\"enter a string\"))\n",
        "count_VandC(x)\n",
        "\n"
      ],
      "metadata": {
        "id": "GgfDAhWpPEs5",
        "colab": {
          "base_uri": "https://localhost:8080/"
        },
        "outputId": "1db77528-9911-4208-ee80-b800409c981f"
      },
      "execution_count": null,
      "outputs": [
        {
          "output_type": "stream",
          "name": "stdout",
          "text": [
            "enter a stringaeiouAEIOUBCDbbbcd\n",
            "vowels 10\n",
            "consonents 8\n"
          ]
        }
      ]
    },
    {
      "cell_type": "code",
      "source": [
        "#20. given two integers a and b, if a<b print all numbers from a to b in ascending order else print descending order\n",
        "a=int(input(\"enter a\"))\n",
        "b=int(input(\"enter b\"))\n",
        "if a<b:\n",
        "  while (a<=b):\n",
        "    print(a,end=\",\")\n",
        "    a=a+1\n",
        "else:\n",
        "  while (a>=b):\n",
        "    print(a,end=\",\")\n",
        "    a=a-1\n",
        "\n"
      ],
      "metadata": {
        "id": "SV8iPIjQPI72",
        "colab": {
          "base_uri": "https://localhost:8080/"
        },
        "outputId": "687f7bcd-ee2d-4b1c-cb87-6fa1b37052a2"
      },
      "execution_count": null,
      "outputs": [
        {
          "output_type": "stream",
          "name": "stdout",
          "text": [
            "enter a100\n",
            "enter b70\n",
            "100,99,98,97,96,95,94,93,92,91,90,89,88,87,86,85,84,83,82,81,80,79,78,77,76,75,74,73,72,71,70,"
          ]
        }
      ]
    },
    {
      "cell_type": "code",
      "source": [
        "#21. program to print biggest value among three numbers\n",
        "a=int(input(\"first number\"))\n",
        "b=int(input(\"second number\"))\n",
        "c=int(input(\"third number\"))\n",
        "if (a>b) and (a>c):\n",
        "  print(a,\"is largest\")\n",
        "elif (b>a) and (b>c):\n",
        "  print(b,\"is largest\")\n",
        "else :\n",
        "  print(c,\"is largest\")"
      ],
      "metadata": {
        "id": "ZmmdCzu_PymI",
        "colab": {
          "base_uri": "https://localhost:8080/"
        },
        "outputId": "49825067-cbe1-404a-9d87-fa6e14537ed9"
      },
      "execution_count": null,
      "outputs": [
        {
          "output_type": "stream",
          "name": "stdout",
          "text": [
            "first number5\n",
            "second number1\n",
            "third number9\n",
            "9 is largest\n"
          ]
        }
      ]
    },
    {
      "cell_type": "code",
      "source": [
        "#22. write a program to count the number of strings where the string length is 2 or more and the first and last characters are same in given list of things \n",
        "a=input(\"Enter a word \")\n",
        "if a[0]==a[-1]:\n",
        "  print(\"Yes\")\n",
        "else :\n",
        "  print(\"No\")"
      ],
      "metadata": {
        "id": "aRe-o1r3QAu5",
        "colab": {
          "base_uri": "https://localhost:8080/"
        },
        "outputId": "4520fcbe-075b-4348-f3b6-ee4661c4779f"
      },
      "execution_count": null,
      "outputs": [
        {
          "output_type": "stream",
          "name": "stdout",
          "text": [
            "Enter a word hi this is mahesh\n",
            "Yes\n"
          ]
        }
      ]
    },
    {
      "cell_type": "code",
      "source": [
        "#23. round trip of walking track is 6km , take the input from user as numer of days,number of round trips he complted per day, calculate the total distance he covered in meters\n",
        "#cond if distance is less than 40000m give msg as \"need to walk more\" if >40000m \"you hae done a great job\"\n",
        "a=int(input(\"Enter days \"))\n",
        "b=int(input(\"Enter round trips per day \"))\n",
        "c=a*b*6000\n",
        "print(\"you have walked\",c,\"metres\")\n",
        "if c>= 40000 :\n",
        "  print(\"Good job\")\n",
        "else :\n",
        "  print(\"Need to walk more\")"
      ],
      "metadata": {
        "id": "ml0SRUiuQx9X",
        "colab": {
          "base_uri": "https://localhost:8080/"
        },
        "outputId": "27e799a1-a552-476e-9131-46c599723ea9"
      },
      "execution_count": null,
      "outputs": [
        {
          "output_type": "stream",
          "name": "stdout",
          "text": [
            "Enter days 5\n",
            "Enter round trips per day 3\n",
            "you have walked 90000 metres\n",
            "Good job\n"
          ]
        }
      ]
    },
    {
      "cell_type": "code",
      "source": [
        "#24. given a list of student names in 'l' ,and a character ,display the names of students whose first letter is given character as input\n",
        "n=input(\"Enter letter to be verified \")\n",
        "n=n.lower()\n",
        "r=[]\n",
        "s=0\n",
        "for i in range(int(input(\"Enter no. of students \"))):\n",
        "  a=input(f\"Enter name of student no. {i+1} \")\n",
        "  a=a.lower()\n",
        "  p=a[0]\n",
        "  if n==p :\n",
        "    s+=1\n",
        "    r.append(a)\n",
        "print(f\"Total {s} students matched\\nThey are {r}\")\n"
      ],
      "metadata": {
        "id": "nFOx9xADRwA4",
        "colab": {
          "base_uri": "https://localhost:8080/"
        },
        "outputId": "11056bc1-9434-4df7-bb26-f157e96ecded"
      },
      "execution_count": null,
      "outputs": [
        {
          "output_type": "stream",
          "name": "stdout",
          "text": [
            "Enter letter to be verified l\n",
            "Enter no. of students 4\n",
            "Enter name of student no. 1 laxman\n",
            "Enter name of student no. 2 likhith\n",
            "Enter name of student no. 3 saketh\n",
            "Enter name of student no. 4 saicharan\n",
            "Total 2 students matched\n",
            "They are ['laxman', 'likhith']\n"
          ]
        }
      ]
    },
    {
      "cell_type": "code",
      "source": [
        "#25. given a list of city names , print city names whose length is greater than given length.\n",
        "l=int(input(\"Enter length to be exceeded \"))\n",
        "u=[]\n",
        "for i in range(int(input(\"Enter no. of cities \"))):\n",
        "  c=input(f\"Enter name of city no.{i+1} \")\n",
        "  a=len(c)\n",
        "  if a>l:\n",
        "    u.append(c)\n",
        "print(f\"required cities are {u}\")"
      ],
      "metadata": {
        "id": "LLP4qqJ1SZtP",
        "colab": {
          "base_uri": "https://localhost:8080/"
        },
        "outputId": "7bb96c98-dcc7-45dd-9ebf-63e268e629b0"
      },
      "execution_count": null,
      "outputs": [
        {
          "output_type": "stream",
          "name": "stdout",
          "text": [
            "Enter length to be exceeded 5\n",
            "Enter no. of cities 5\n",
            "Enter name of city no.1 khammam\n",
            "Enter name of city no.2 hydreabad\n",
            "Enter name of city no.3 goa\n",
            "Enter name of city no.4 vizag\n",
            "Enter name of city no.5 delhi\n",
            "required cities are ['khammam', 'hydreabad']\n"
          ]
        }
      ]
    }
  ]
}