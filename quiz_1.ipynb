{
  "nbformat": 4,
  "nbformat_minor": 0,
  "metadata": {
    "colab": {
      "name": "quiz 1",
      "provenance": [],
      "authorship_tag": "ABX9TyMeyWs/VcY9eDLT6iOiYH80",
      "include_colab_link": true
    },
    "kernelspec": {
      "name": "python3",
      "display_name": "Python 3"
    },
    "language_info": {
      "name": "python"
    }
  },
  "cells": [
    {
      "cell_type": "markdown",
      "metadata": {
        "id": "view-in-github",
        "colab_type": "text"
      },
      "source": [
        "<a href=\"https://colab.research.google.com/github/Laxmanchowdaryyy/python-modules/blob/Module-1/quiz_1.ipynb\" target=\"_parent\"><img src=\"https://colab.research.google.com/assets/colab-badge.svg\" alt=\"Open In Colab\"/></a>"
      ]
    },
    {
      "cell_type": "code",
      "execution_count": null,
      "metadata": {
        "colab": {
          "base_uri": "https://localhost:8080/"
        },
        "id": "XdTG4fJHiOBo",
        "outputId": "f7e24977-cdaa-4762-9a0a-b5e81197eab9"
      },
      "outputs": [
        {
          "output_type": "stream",
          "name": "stdout",
          "text": [
            "Result = 3 2\n"
          ]
        }
      ],
      "source": [
        "#Write a program of swapping of two numbers \n",
        "a=2\n",
        "b=3\n",
        "c=a\n",
        "a=b\n",
        "b=c\n",
        "print(\"Result =\",a,b)\n"
      ]
    },
    {
      "cell_type": "code",
      "source": [
        "#Find out the square root of the number\n",
        "a=4\n",
        "a=a**(1/2)\n",
        "print(a)"
      ],
      "metadata": {
        "id": "3q_e8d73iXSW"
      },
      "execution_count": null,
      "outputs": []
    },
    {
      "cell_type": "code",
      "source": [
        "#Find out the Largest of three numbers from the give input\n",
        "a=5\n",
        "b=3\n",
        "c=2\n",
        "if a>b and a>c:\n",
        "    print(a)\n",
        "elif b>a and b>c:\n",
        "    print(b)\n",
        "else:\n",
        "    print(c)"
      ],
      "metadata": {
        "id": "HFPmW5_WicIM"
      },
      "execution_count": null,
      "outputs": []
    },
    {
      "cell_type": "code",
      "source": [
        "#Add Black color to the given list in the 4th place.\n",
        "\n",
        "Rainbow = ['Red', 'Orange', 'Yellow', 'Green'] \n",
        "Rainbow.insert(3,'Black')\n",
        "print(Rainbow)\n"
      ],
      "metadata": {
        "colab": {
          "base_uri": "https://localhost:8080/"
        },
        "id": "jQD3Hm4vilA8",
        "outputId": "107ebb38-d59d-4730-ee53-a9ae6be452d0"
      },
      "execution_count": null,
      "outputs": [
        {
          "output_type": "stream",
          "name": "stdout",
          "text": [
            "['Red', 'Orange', 'Yellow', 'Black', 'Green']\n"
          ]
        }
      ]
    }
  ]
}