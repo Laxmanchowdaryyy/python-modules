{
  "nbformat": 4,
  "nbformat_minor": 0,
  "metadata": {
    "colab": {
      "name": "sets 7-04 .ipynb",
      "provenance": [],
      "collapsed_sections": [],
      "authorship_tag": "ABX9TyM/7kTG64iwmXk4yBvl/EWZ",
      "include_colab_link": true
    },
    "kernelspec": {
      "name": "python3",
      "display_name": "Python 3"
    },
    "language_info": {
      "name": "python"
    }
  },
  "cells": [
    {
      "cell_type": "markdown",
      "metadata": {
        "id": "view-in-github",
        "colab_type": "text"
      },
      "source": [
        "<a href=\"https://colab.research.google.com/github/Laxmanchowdaryyy/python-modules/blob/Module-2/sets_7_04_.ipynb\" target=\"_parent\"><img src=\"https://colab.research.google.com/assets/colab-badge.svg\" alt=\"Open In Colab\"/></a>"
      ]
    },
    {
      "cell_type": "code",
      "execution_count": null,
      "metadata": {
        "colab": {
          "base_uri": "https://localhost:8080/"
        },
        "id": "gH75XAbH2FBH",
        "outputId": "2f80087f-05a1-438a-f7d7-49ca9c9debed"
      },
      "outputs": [
        {
          "output_type": "stream",
          "name": "stdout",
          "text": [
            "{'audi', 'benz', 'bmw'}\n"
          ]
        }
      ],
      "source": [
        "#Duplicate values will be ignored:\n",
        "cars={\"bmw\",\"audi\",\"benz\",\"bmw\",\"bmw\"}\n",
        "print(cars)"
      ]
    },
    {
      "cell_type": "code",
      "source": [
        "cars={\"bmw\",\"audi\",\"benz\",\"bmw\",\"bmw\"}\n",
        "print(len(cars))"
      ],
      "metadata": {
        "colab": {
          "base_uri": "https://localhost:8080/"
        },
        "id": "V0SRKx9N2YQ8",
        "outputId": "2ab13308-47b9-48f3-b7d2-18b0bd5e5fc3"
      },
      "execution_count": null,
      "outputs": [
        {
          "output_type": "stream",
          "name": "stdout",
          "text": [
            "3\n"
          ]
        }
      ]
    },
    {
      "cell_type": "code",
      "source": [
        "set1 = {1, 5, 7, 9, 3,2,8,20}\n",
        "print(set1)\n",
        "set2 = {False, False,True,False}\n",
        "print(set2)\n",
        "set3={\"saketh\",\"laxman\",\"sai\",\"saketh\",\"laxman\",\"sai\"}\n",
        "print(set3)"
      ],
      "metadata": {
        "colab": {
          "base_uri": "https://localhost:8080/"
        },
        "id": "vgPNTGab3A5k",
        "outputId": "9657cefd-efd1-4587-cdd7-b9b65dc6a9d8"
      },
      "execution_count": null,
      "outputs": [
        {
          "output_type": "stream",
          "name": "stdout",
          "text": [
            "{1, 2, 3, 5, 7, 8, 9, 20}\n",
            "{False, True}\n",
            "{'sai', 'saketh', 'laxman'}\n"
          ]
        }
      ]
    },
    {
      "cell_type": "code",
      "source": [
        "sett={\"bmw\",True,30,\"motorsport\"}\n",
        "print(sett)\n",
        "print(type(sett))"
      ],
      "metadata": {
        "colab": {
          "base_uri": "https://localhost:8080/"
        },
        "id": "LJasaJik3PdT",
        "outputId": "4277e612-47d1-4e07-97f9-84235e3521b6"
      },
      "execution_count": null,
      "outputs": [
        {
          "output_type": "stream",
          "name": "stdout",
          "text": [
            "{True, 'motorsport', 'bmw', 30}\n",
            "<class 'set'>\n"
          ]
        }
      ]
    },
    {
      "cell_type": "code",
      "source": [
        "#Using the set() constructor to make a set\n",
        "cars=set((\"sport\",\"sedan\",\"hatchback\"))\n",
        "print(cars)\n",
        "print(type(cars))"
      ],
      "metadata": {
        "id": "Iyat9xSE4glD",
        "colab": {
          "base_uri": "https://localhost:8080/"
        },
        "outputId": "b42e8cfe-026a-453d-d82d-1eae1510884d"
      },
      "execution_count": null,
      "outputs": [
        {
          "output_type": "stream",
          "name": "stdout",
          "text": [
            "{'hatchback', 'sport', 'sedan'}\n",
            "<class 'set'>\n"
          ]
        }
      ]
    },
    {
      "cell_type": "code",
      "source": [
        "#loop through the set\n",
        "cars={\"kia\",\"merc\",\"audi\",\"skaoda\"}\n",
        "for x in cars:\n",
        "  print(x)\n",
        "\n",
        "print(\"merc\" in cars)\n",
        "print(\"bmw\" in cars)"
      ],
      "metadata": {
        "colab": {
          "base_uri": "https://localhost:8080/"
        },
        "id": "G2zV2eDzUw0c",
        "outputId": "9d4cc923-a50a-4dba-e4b1-907ef252dd17"
      },
      "execution_count": null,
      "outputs": [
        {
          "output_type": "stream",
          "name": "stdout",
          "text": [
            "merc\n",
            "audi\n",
            "kia\n",
            "skaoda\n",
            "True\n",
            "False\n"
          ]
        }
      ]
    },
    {
      "cell_type": "code",
      "source": [
        "#Using the set() constructor to make a set\n",
        "cars={\"kia\",\"merc\",\"audi\",\"skaoda\"}\n",
        "cars.add(\"bmw\")\n",
        "print(cars)\n",
        "print(type(cars))\n"
      ],
      "metadata": {
        "colab": {
          "base_uri": "https://localhost:8080/"
        },
        "id": "hzKdUkMGVR9M",
        "outputId": "cfef8faf-a5c9-4328-a165-6df92a90071a"
      },
      "execution_count": null,
      "outputs": [
        {
          "output_type": "stream",
          "name": "stdout",
          "text": [
            "{'merc', 'audi', 'bmw', 'skaoda', 'kia'}\n",
            "<class 'set'>\n"
          ]
        }
      ]
    },
    {
      "cell_type": "code",
      "source": [
        "fruits={\"mango\",\"apple\",\"kiwi\"}\n",
        "new={\"custard\",\"papaya\",\"cherrry\"}\n",
        "new.update(fruits)\n",
        "print(new)"
      ],
      "metadata": {
        "colab": {
          "base_uri": "https://localhost:8080/"
        },
        "id": "XqYs3xizV35s",
        "outputId": "158cde37-31ef-4ec7-e718-0ca2e3d5887c"
      },
      "execution_count": null,
      "outputs": [
        {
          "output_type": "stream",
          "name": "stdout",
          "text": [
            "{'cherrry', 'kiwi', 'apple', 'mango', 'papaya', 'custard'}\n"
          ]
        }
      ]
    },
    {
      "cell_type": "code",
      "source": [
        "#remove() we can also use discard()\n",
        "cars={\"bmw\",\"audi\",\"fiat\",\"ford\"}\n",
        "cars.remove(\"audi\")\n",
        "print(cars)"
      ],
      "metadata": {
        "colab": {
          "base_uri": "https://localhost:8080/"
        },
        "id": "F7_iwgCFWrAN",
        "outputId": "b511887e-6de6-41d0-e14d-845ecd05134d"
      },
      "execution_count": null,
      "outputs": [
        {
          "output_type": "stream",
          "name": "stdout",
          "text": [
            "{'fiat', 'ford', 'bmw'}\n"
          ]
        }
      ]
    },
    {
      "cell_type": "code",
      "source": [
        "#pop() pop removes last item but sets are unordered\n",
        "cars={\"bmw\",\"audi\",\"mercedes\",\"skoda\",\"citreon\"}\n",
        "cars.pop()  #set after removing an item\n",
        "print(cars)\n",
        "x=cars.pop() #removed item\n",
        "print(x) \n"
      ],
      "metadata": {
        "colab": {
          "base_uri": "https://localhost:8080/"
        },
        "id": "JAToO5kwXYKb",
        "outputId": "9d6f544d-1f40-412d-f1c6-b1e210fce44d"
      },
      "execution_count": null,
      "outputs": [
        {
          "output_type": "stream",
          "name": "stdout",
          "text": [
            "{'citreon', 'audi', 'bmw', 'mercedes'}\n",
            "citreon\n"
          ]
        }
      ]
    },
    {
      "cell_type": "code",
      "source": [
        "#clear() empties the set\n",
        "fruits={\"banana\",\"kiwi\",\"gauva\"}\n",
        "fruits.clear()\n",
        "print(fruits)"
      ],
      "metadata": {
        "colab": {
          "base_uri": "https://localhost:8080/"
        },
        "id": "0uu4krykYBS8",
        "outputId": "2bdc44fb-3b14-49aa-8d80-3fec71df8004"
      },
      "execution_count": null,
      "outputs": [
        {
          "output_type": "stream",
          "name": "stdout",
          "text": [
            "set()\n"
          ]
        }
      ]
    },
    {
      "cell_type": "code",
      "source": [
        "#del deletes set completely\n",
        "cars={\"audi\",\"bmw\",\"mercedes\"}\n",
        "del cars\n",
        "print(cars)"
      ],
      "metadata": {
        "colab": {
          "base_uri": "https://localhost:8080/",
          "height": 200
        },
        "id": "Y9ZpuazjYoEs",
        "outputId": "e966f9fb-2c1f-439e-cf48-420476c3f49b"
      },
      "execution_count": null,
      "outputs": [
        {
          "output_type": "error",
          "ename": "NameError",
          "evalue": "ignored",
          "traceback": [
            "\u001b[0;31m---------------------------------------------------------------------------\u001b[0m",
            "\u001b[0;31mNameError\u001b[0m                                 Traceback (most recent call last)",
            "\u001b[0;32m<ipython-input-17-8bd2f539af7f>\u001b[0m in \u001b[0;36m<module>\u001b[0;34m()\u001b[0m\n\u001b[1;32m      2\u001b[0m \u001b[0mcars\u001b[0m\u001b[0;34m=\u001b[0m\u001b[0;34m{\u001b[0m\u001b[0;34m\"audi\"\u001b[0m\u001b[0;34m,\u001b[0m\u001b[0;34m\"bmw\"\u001b[0m\u001b[0;34m,\u001b[0m\u001b[0;34m\"mercedes\"\u001b[0m\u001b[0;34m}\u001b[0m\u001b[0;34m\u001b[0m\u001b[0;34m\u001b[0m\u001b[0m\n\u001b[1;32m      3\u001b[0m \u001b[0;32mdel\u001b[0m \u001b[0mcars\u001b[0m\u001b[0;34m\u001b[0m\u001b[0;34m\u001b[0m\u001b[0m\n\u001b[0;32m----> 4\u001b[0;31m \u001b[0mprint\u001b[0m\u001b[0;34m(\u001b[0m\u001b[0mcars\u001b[0m\u001b[0;34m)\u001b[0m\u001b[0;34m\u001b[0m\u001b[0;34m\u001b[0m\u001b[0m\n\u001b[0m",
            "\u001b[0;31mNameError\u001b[0m: name 'cars' is not defined"
          ]
        }
      ]
    },
    {
      "cell_type": "code",
      "source": [
        "#You can use the union() method that returns a new set containing all items from both sets, or the update() method that inserts all the items from one set into another:\n",
        "cars={\"bmw\",\"merc\",\"hyundai\"}\n",
        "car={30,20,10}\n",
        "sett=cars.union(car)\n",
        "print(sett)"
      ],
      "metadata": {
        "colab": {
          "base_uri": "https://localhost:8080/"
        },
        "id": "WmKHBYzBY0eM",
        "outputId": "1f35daa8-0799-4dcf-b7a2-6e694bf22c50"
      },
      "execution_count": null,
      "outputs": [
        {
          "output_type": "stream",
          "name": "stdout",
          "text": [
            "{'merc', 20, 'hyundai', 10, 'bmw', 30}\n"
          ]
        }
      ]
    },
    {
      "cell_type": "code",
      "source": [
        "#update inserts itams in set2 into set1\n",
        "cars={\"honda\",\"mini\",\"tata\",\"mini\",\"honda\"}\n",
        "car={10,20,30,50}\n",
        "cars.update(car)\n",
        "print(cars)"
      ],
      "metadata": {
        "colab": {
          "base_uri": "https://localhost:8080/"
        },
        "id": "IiYnNCMnZZ-K",
        "outputId": "67a5add7-41e0-4225-e6b9-f462bc3a7c84"
      },
      "execution_count": null,
      "outputs": [
        {
          "output_type": "stream",
          "name": "stdout",
          "text": [
            "{50, 20, 30, 'honda', 'mini', 10, 'tata'}\n"
          ]
        }
      ]
    },
    {
      "cell_type": "code",
      "source": [
        "#intersection_update() will keep only the items are present in both sets\n",
        "fruits={\"apple\",\"banana\",\"grapes\",\"apple\"}\n",
        "cars={\"bmw\",\"audi\",\"benz\",\"apple\",\"banana\"}\n",
        "fruits.intersection_update(cars)\n",
        "print(fruits)"
      ],
      "metadata": {
        "colab": {
          "base_uri": "https://localhost:8080/"
        },
        "id": "hFVGrO6kZ94K",
        "outputId": "96f9cb3b-1f48-46e5-a0f5-288d0e876c20"
      },
      "execution_count": null,
      "outputs": [
        {
          "output_type": "stream",
          "name": "stdout",
          "text": [
            "{'apple', 'banana'}\n"
          ]
        }
      ]
    },
    {
      "cell_type": "code",
      "source": [
        "#The intersection() method will return a new set, that only contains the items that are present in both sets.\n",
        "fruits={\"apple\",\"banana\",\"grapes\",\"apple\"}\n",
        "cars={\"bmw\",\"audi\",\"benz\",\"apple\",\"banana\"}\n",
        "z=fruits.intersection(cars)\n",
        "print(z)"
      ],
      "metadata": {
        "colab": {
          "base_uri": "https://localhost:8080/"
        },
        "id": "yIeuDESna0gc",
        "outputId": "0106673a-307e-4510-bf87-9caa543a55da"
      },
      "execution_count": null,
      "outputs": [
        {
          "output_type": "stream",
          "name": "stdout",
          "text": [
            "{'apple', 'banana'}\n"
          ]
        }
      ]
    },
    {
      "cell_type": "code",
      "source": [
        "#The symmetric_difference_update() Keep All, But NOT the Duplicates\n",
        "fruits={\"apple\",\"banana\",\"grapes\",\"apple\"}\n",
        "cars={\"bmw\",\"audi\",\"benz\",\"apple\",\"banana\"}\n",
        "fruits.symmetric_difference_update(cars)\n",
        "print(fruits)\n",
        "#The symmetric_difference() method will return a new set, that contains only the elements that are NOT present in both sets.\n",
        "z=fruits.symmetric_difference(cars)"
      ],
      "metadata": {
        "colab": {
          "base_uri": "https://localhost:8080/"
        },
        "id": "SisvN4ktbnh6",
        "outputId": "19c8f3a5-bef5-43ec-feff-dd29a29258cb"
      },
      "execution_count": null,
      "outputs": [
        {
          "output_type": "stream",
          "name": "stdout",
          "text": [
            "{'audi', 'benz', 'bmw', 'grapes'}\n",
            "{'apple', 'grapes', 'banana'}\n"
          ]
        }
      ]
    },
    {
      "cell_type": "code",
      "source": [
        ""
      ],
      "metadata": {
        "id": "OrzP8A5RcAUa"
      },
      "execution_count": null,
      "outputs": []
    }
  ]
}