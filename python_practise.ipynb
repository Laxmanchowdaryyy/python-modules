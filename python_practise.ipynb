{
  "nbformat": 4,
  "nbformat_minor": 0,
  "metadata": {
    "colab": {
      "name": "python practise.ipynb",
      "provenance": [],
      "collapsed_sections": [],
      "authorship_tag": "ABX9TyNozN50Y0Zz7HVMgsPMx6N7",
      "include_colab_link": true
    },
    "kernelspec": {
      "name": "python3",
      "display_name": "Python 3"
    },
    "language_info": {
      "name": "python"
    }
  },
  "cells": [
    {
      "cell_type": "markdown",
      "metadata": {
        "id": "view-in-github",
        "colab_type": "text"
      },
      "source": [
        "<a href=\"https://colab.research.google.com/github/Laxmanchowdaryyy/python-modules/blob/Module-1/python_practise.ipynb\" target=\"_parent\"><img src=\"https://colab.research.google.com/assets/colab-badge.svg\" alt=\"Open In Colab\"/></a>"
      ]
    },
    {
      "cell_type": "code",
      "execution_count": null,
      "metadata": {
        "colab": {
          "base_uri": "https://localhost:8080/"
        },
        "id": "qcR715cEIeks",
        "outputId": "eebf32f6-8121-4868-f26d-37032416df06"
      },
      "outputs": [
        {
          "output_type": "stream",
          "name": "stdout",
          "text": [
            "1.2222222222222223\n",
            "<class 'float'>\n"
          ]
        }
      ],
      "source": [
        "a=1; b=2/9; c=a+b; print (c)\n",
        "print (type(c))"
      ]
    },
    {
      "cell_type": "code",
      "source": [
        "#Find out the person is eligible for voting or not.\n",
        "#dynamic\n",
        "a=19\n",
        "if (a>18):\n",
        "     print(\"eligible\")\n",
        "else:\n",
        "     print(\"not eligible\")"
      ],
      "metadata": {
        "id": "6meFmM83PMY2",
        "colab": {
          "base_uri": "https://localhost:8080/"
        },
        "outputId": "ca21399c-2eb0-419a-f8ad-4033a853bb2a"
      },
      "execution_count": null,
      "outputs": [
        {
          "output_type": "stream",
          "name": "stdout",
          "text": [
            "eligible\n"
          ]
        }
      ]
    },
    {
      "cell_type": "code",
      "source": [
        "#max of 3 numbers.\n",
        "a=int(input(\"\"))\n",
        "b=int(input(\"\"))\n",
        "c=int(input(\"\"))\n",
        "if ((a>b) and (a>c)):\n",
        "  print(\"a is largest\")\n",
        "elif ((b>a) and (b>c)):\n",
        "  print(\"b is largest\")\n",
        "else :\n",
        "  (\"c is largest\")"
      ],
      "metadata": {
        "id": "SxqZxVkTSMy-",
        "colab": {
          "base_uri": "https://localhost:8080/"
        },
        "outputId": "24b9f5dc-a1eb-41f2-9af2-95b69ec46824"
      },
      "execution_count": null,
      "outputs": [
        {
          "output_type": "stream",
          "name": "stdout",
          "text": [
            "7\n",
            "87\n",
            "9\n",
            "b is largest\n"
          ]
        }
      ]
    },
    {
      "cell_type": "code",
      "source": [
        "#give 5 subjects marks and find the highest subject mark\n",
        "s1=int(input(\"enter first subject mark:\"))\n",
        "s2=int(input(\"enter second subject mark:\"))\n",
        "s3=int(input(\"enter third subject mark:\"))\n",
        "s4=int(input(\"enter fourth subject mark:\"))\n",
        "s5=int(input(\"enter fifth suject mark:\"))\n",
        "if s1>s2 and s1>s3 and s1>s4 and s1>s5:\n",
        "  print(\"subject 1 is highest\")\n",
        "elif s2>s1 and s2>s3 and s2>s4 and s2>s5:\n",
        "  print(\"subject 2 is highest\")\n",
        "elif s3>s1 and s3>s2 and s3>s4 and s3>s5:\n",
        "  print(\"subject 3 is highest\")\n",
        "elif s4>s1 and s4>s2 and s4>s3 and s4>s5:\n",
        "  print(\"subject 4 is highest\")\n",
        "else :\n",
        "  print(\"subject 5 is highest\")\n",
        "\n"
      ],
      "metadata": {
        "colab": {
          "base_uri": "https://localhost:8080/"
        },
        "id": "sCn601ypTRGG",
        "outputId": "375d3da6-fa08-41cd-ea67-0aaad580b98f"
      },
      "execution_count": null,
      "outputs": [
        {
          "output_type": "stream",
          "name": "stdout",
          "text": [
            "enter first subject mark:45\n",
            "enter second subject mark:56\n",
            "enter third subject mark:76\n",
            "enter fourth subject mark:55\n",
            "enter fifth suject mark:77\n",
            "subject 5 is highest\n"
          ]
        }
      ]
    },
    {
      "cell_type": "code",
      "source": [
        "a=int(input(\"enter a number\"))\n",
        "print (type(a))\n",
        "print (a)\n",
        "b=float(input(\"enter a number \"))\n",
        "print (b)\n",
        "c=float(input(\"enter a number \"))\n",
        "print (c)\n",
        "avg=float(a+b+c)/3;\n",
        "print (avg)\n",
        "print (type(avg))\n"
      ],
      "metadata": {
        "colab": {
          "base_uri": "https://localhost:8080/"
        },
        "id": "v8zU6RJfKPne",
        "outputId": "b44f666f-35ad-4f1c-a621-67b90718ed28"
      },
      "execution_count": null,
      "outputs": [
        {
          "output_type": "stream",
          "name": "stdout",
          "text": [
            "enter a number5\n",
            "<class 'int'>\n",
            "5\n",
            "enter a number 20.5\n",
            "20.5\n",
            "enter a number 6.5\n",
            "6.5\n",
            "10.666666666666666\n",
            "<class 'float'>\n"
          ]
        }
      ]
    },
    {
      "cell_type": "code",
      "source": [
        "#check whether the triangle is equilateral or scalane or isosceles\n",
        "a=int(input(\"enter first side of the triangle\"))\n",
        "b=int(input(\"enter second side of the triangle\"))\n",
        "c=int(input(\"enter third side of the triangle\"))\n",
        "if (a==b) and b==c:\n",
        "  print(\"triangle is equlateral\")\n",
        "elif a==b or b==c :\n",
        "  print(\"triangle is isosceles\")\n",
        "else :\n",
        "  print(\"triangle is scalane\")"
      ],
      "metadata": {
        "colab": {
          "base_uri": "https://localhost:8080/"
        },
        "id": "YbqWU30oXXDL",
        "outputId": "1fa879df-3843-4638-bcf6-00a0bef45dda"
      },
      "execution_count": null,
      "outputs": [
        {
          "output_type": "stream",
          "name": "stdout",
          "text": [
            "enter first side of the triangle5\n",
            "enter second side of the triangle7\n",
            "enter third side of the triangle9\n",
            "triangle is scalane\n"
          ]
        }
      ]
    },
    {
      "cell_type": "code",
      "source": [
        "#Check whether entered year is a leap year or not\n",
        "year=int(input(\"enter any year:\"))\n",
        "if year%400==0:\n",
        "  print(\"leap year\")\n",
        "elif year%4==0  :\n",
        "  print(\"leap year\")\n",
        "else:\n",
        "  print(\"not a leap year\")"
      ],
      "metadata": {
        "colab": {
          "base_uri": "https://localhost:8080/"
        },
        "id": "96CKEYxlYOZO",
        "outputId": "c2850880-737c-4fb7-af43-68e08afb9846"
      },
      "execution_count": null,
      "outputs": [
        {
          "output_type": "stream",
          "name": "stdout",
          "text": [
            "enter any year:2021\n",
            "not a leap year\n"
          ]
        }
      ]
    },
    {
      "cell_type": "code",
      "source": [
        "#Find minimum among three numbers\n",
        "a,b,c=input().split()\n",
        "if a<b and a<c:\n",
        "  print(\"a is minimum \")\n",
        "elif b<a and b<c:\n",
        "  print(\"b is minimum\")\n",
        "else :\n",
        "  print(\"c is minimum\")"
      ],
      "metadata": {
        "colab": {
          "base_uri": "https://localhost:8080/"
        },
        "id": "dhUV0VPhZCLM",
        "outputId": "e132b8ce-6974-490b-bd0c-6e0313c73336"
      },
      "execution_count": null,
      "outputs": [
        {
          "output_type": "stream",
          "name": "stdout",
          "text": [
            "4 5 6\n",
            "a is minimum \n"
          ]
        }
      ]
    },
    {
      "cell_type": "code",
      "source": [
        "#Check whether a number is divisible by 5 and 11 or not.\n",
        "a=int(input(\"enter any number:\"))\n",
        "if a%5==0 and a%11==0:\n",
        "  print(\"yes\")\n",
        "else : \n",
        "  print(\"no\")"
      ],
      "metadata": {
        "colab": {
          "base_uri": "https://localhost:8080/"
        },
        "id": "CCYxHtAVa-1M",
        "outputId": "8cf2cd5f-becc-490b-b2ae-c7aae1d2cd2c"
      },
      "execution_count": null,
      "outputs": [
        {
          "output_type": "stream",
          "name": "stdout",
          "text": [
            "enter any number:11\n",
            "no\n"
          ]
        }
      ]
    },
    {
      "cell_type": "code",
      "source": [
        "#Find Roots of a Quadratic Equation\n",
        "# import complex math module  \n",
        "import cmath  \n",
        "a = float(input('Enter a: '))  \n",
        "b = float(input('Enter b: '))  \n",
        "c = float(input('Enter c: '))  \n",
        "\n",
        "d=b*b-4*a*c\n",
        "sqrt_val= math.sqrt(abs(d))\n",
        "\n",
        "if d>0:\n",
        "  print((-b + sqrt_val) / (2 * a))  \n",
        "  print((-b - sqrt_val) / (2 * a))  \n",
        "elif d==0:\n",
        "  print(-b / (2 * a))\n",
        "else :\n",
        "  print(- b / (2 * a), \" + i\", sqrt_val)  \n",
        "  print(- b / (2 * a), \" - i\", sqrt_val) "
      ],
      "metadata": {
        "id": "YD5sMQQ6boQb",
        "colab": {
          "base_uri": "https://localhost:8080/"
        },
        "outputId": "3b16c7a5-a283-4a00-b440-6c8f08b160af"
      },
      "execution_count": null,
      "outputs": [
        {
          "output_type": "stream",
          "name": "stdout",
          "text": [
            "Enter a: 7\n",
            "Enter b: 5\n",
            "Enter c: 2\n",
            "-0.35714285714285715  + i 5.5677643628300215\n",
            "-0.35714285714285715  - i 5.5677643628300215\n"
          ]
        }
      ]
    },
    {
      "cell_type": "code",
      "source": [
        "#factorial of a number\n",
        "import math\n",
        " \n",
        "\n",
        "num=int(input(\"enter a number:\"))\n",
        "print(\"Factorial of\", num, \"is\",(math.factorial(num)))\n",
        "\n"
      ],
      "metadata": {
        "colab": {
          "base_uri": "https://localhost:8080/"
        },
        "id": "GZGF3XYgzif6",
        "outputId": "6deba386-1f8a-4cb2-bca7-c11158ad253b"
      },
      "execution_count": null,
      "outputs": [
        {
          "output_type": "stream",
          "name": "stdout",
          "text": [
            "enter a number:10\n",
            "Factorial of 10 is 3628800\n"
          ]
        }
      ]
    },
    {
      "cell_type": "code",
      "source": [
        "#factorial of a number\n",
        "n=int(input(\"enter any number\"))\n",
        "if n<0:\n",
        "  print(\"its a negative number\")\n",
        "elif n == 0 or n == 1:\n",
        "  print(\"1\")\n",
        "elif n>0:\n",
        "    fact = 1\n",
        "    while(n > 1):\n",
        "      fact= fact*n\n",
        "      n=n-1\n",
        "\n",
        "print(\"factorial is\" ,fact)"
      ],
      "metadata": {
        "colab": {
          "base_uri": "https://localhost:8080/"
        },
        "id": "UWF_zdDC1Xgr",
        "outputId": "c54ebf70-486d-4dfe-de47-3f206d7f6159"
      },
      "execution_count": null,
      "outputs": [
        {
          "output_type": "stream",
          "name": "stdout",
          "text": [
            "enter any number5\n",
            "factorial is 120\n"
          ]
        }
      ]
    },
    {
      "cell_type": "code",
      "source": [
        "n=int(input(\"Enter number:\"))\n",
        "temp=n\n",
        "rev=0\n",
        "while(n>0):\n",
        "    dig=n%10\n",
        "    rev=rev*10+dig\n",
        "    n=n//10\n",
        "if(temp==rev):\n",
        "    print(\"The number is a palindrome!\")\n",
        "else:\n",
        "    print(\"The number isn't a palindrome!\")"
      ],
      "metadata": {
        "colab": {
          "base_uri": "https://localhost:8080/"
        },
        "id": "lq2m7wrwWn2X",
        "outputId": "ab38ea57-fa19-4283-dda1-e5a2b43498d5"
      },
      "execution_count": null,
      "outputs": [
        {
          "output_type": "stream",
          "name": "stdout",
          "text": [
            "Enter number:121\n",
            "The number is a palindrome!\n"
          ]
        }
      ]
    },
    {
      "cell_type": "code",
      "source": [
        "#Check whether number is perfect or not\n",
        "n=int(input(\"enter number\"))\n",
        "i=1\n",
        "while (i<n-1):\n",
        "  rem=n%i\n",
        "  if rem==0 :\n",
        "    sum=sum+i\n",
        "    i=i+1\n",
        "if sum==n:\n",
        "  print(\"entered number is perfect number\")\n",
        "else:\n",
        "  print(\"entered number is not a perfect number\")"
      ],
      "metadata": {
        "colab": {
          "base_uri": "https://localhost:8080/",
          "height": 252
        },
        "id": "LeBYs0cxeSDe",
        "outputId": "03e20ee2-2d8e-4644-fd2a-47284e51da94"
      },
      "execution_count": null,
      "outputs": [
        {
          "name": "stdout",
          "output_type": "stream",
          "text": [
            "enter number28\n"
          ]
        },
        {
          "output_type": "error",
          "ename": "NameError",
          "evalue": "ignored",
          "traceback": [
            "\u001b[0;31m---------------------------------------------------------------------------\u001b[0m",
            "\u001b[0;31mNameError\u001b[0m                                 Traceback (most recent call last)",
            "\u001b[0;32m<ipython-input-7-0df76431fc43>\u001b[0m in \u001b[0;36m<module>\u001b[0;34m()\u001b[0m\n\u001b[1;32m      5\u001b[0m   \u001b[0mrem\u001b[0m\u001b[0;34m=\u001b[0m\u001b[0mn\u001b[0m\u001b[0;34m%\u001b[0m\u001b[0mi\u001b[0m\u001b[0;34m\u001b[0m\u001b[0;34m\u001b[0m\u001b[0m\n\u001b[1;32m      6\u001b[0m   \u001b[0;32mif\u001b[0m \u001b[0mrem\u001b[0m\u001b[0;34m==\u001b[0m\u001b[0;36m0\u001b[0m \u001b[0;34m:\u001b[0m\u001b[0;34m\u001b[0m\u001b[0;34m\u001b[0m\u001b[0m\n\u001b[0;32m----> 7\u001b[0;31m     \u001b[0ms\u001b[0m\u001b[0;34m=\u001b[0m\u001b[0ms\u001b[0m\u001b[0;34m+\u001b[0m\u001b[0mi\u001b[0m\u001b[0;34m\u001b[0m\u001b[0;34m\u001b[0m\u001b[0m\n\u001b[0m\u001b[1;32m      8\u001b[0m     \u001b[0mi\u001b[0m\u001b[0;34m=\u001b[0m\u001b[0mi\u001b[0m\u001b[0;34m+\u001b[0m\u001b[0;36m1\u001b[0m\u001b[0;34m\u001b[0m\u001b[0;34m\u001b[0m\u001b[0m\n\u001b[1;32m      9\u001b[0m \u001b[0;32mif\u001b[0m \u001b[0ms\u001b[0m\u001b[0;34m==\u001b[0m\u001b[0mn\u001b[0m\u001b[0;34m:\u001b[0m\u001b[0;34m\u001b[0m\u001b[0;34m\u001b[0m\u001b[0m\n",
            "\u001b[0;31mNameError\u001b[0m: name 's' is not defined"
          ]
        }
      ]
    }
  ]
}